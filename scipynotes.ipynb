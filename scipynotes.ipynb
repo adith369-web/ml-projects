{
 "cells": [
  {
   "cell_type": "markdown",
   "id": "21988351",
   "metadata": {},
   "source": [
    "### scipy ###      \n",
    "\n",
    "**what is scipy?**\n",
    "it is a scientific computation library built on top of numpy\n",
    "\n",
    "scipy stands for scientific python\n",
    "\n",
    "it has more optimization and signal processing features.  \n",
    "\n",
    "\n",
    "\n",
    "\n",
    "\n",
    " **SciPy for ML, Chemistry & Drug Design**\n",
    "**Essential Sub-Packages & Applications**  \n",
    "\n",
    "1.**scipy.linalg** - linear algebra  \n",
    "\n",
    "Used in PCA, matrix decompositions, solving linear systems (common in ML & quantum chemistry).\n",
    "\n",
    "**key functions**  \n",
    "\n",
    "- eig(),svd()&nbsp;&nbsp;&nbsp; (singular value Decomposition)  \n",
    "- solve(),inv()&nbsp;&nbsp;&nbsp;(matrix inversion)  \n",
    "- cholesky() &nbsp;&nbsp;&nbsp;  (for positive definite matrices)\n",
    "\n",
    "\n",
    "1. **solving simple equations**\n",
    "\n",
    "&nbsp;      2x&nbsp;+&nbsp;3y&nbsp;=&nbsp;8\n",
    "  \n",
    " &nbsp;    4x&nbsp;-&nbsp;y&nbsp;=&nbsp;6"
   ]
  },
  {
   "cell_type": "code",
   "execution_count": 1,
   "id": "925616e3",
   "metadata": {},
   "outputs": [
    {
     "name": "stdout",
     "output_type": "stream",
     "text": [
      "[1.85714286 1.42857143]\n"
     ]
    }
   ],
   "source": [
    "from scipy.linalg import solve\n",
    "import numpy as np\n",
    "A=np.array([[2,3],[4,-1]]) #the coeeficients of the equations\n",
    "B=np.array([8,6])         #the results of the equations\n",
    "X=solve(A,B)\n",
    "print(X)\n"
   ]
  },
  {
   "cell_type": "code",
   "execution_count": 2,
   "id": "b521ef65",
   "metadata": {},
   "outputs": [
    {
     "name": "stdout",
     "output_type": "stream",
     "text": [
      "[3.09090909 3.36363636]\n"
     ]
    }
   ],
   "source": [
    "# let another equation be \n",
    "# 3x + 2y = 16 and 5x - 4y = 2 \n",
    "def solve_equation(A, B):\n",
    "    return solve(A, B)\n",
    "\n",
    "K=np.array([[3,2],[5,-4]]) #the coeeficients of the equations\n",
    "L=np.array([16,2])         #the results of the equations\n",
    "Y=solve_equation(K, L)\n",
    "print(Y)"
   ]
  },
  {
   "cell_type": "markdown",
   "id": "029c84e9",
   "metadata": {},
   "source": [
    "**matrix multiplication**  \n",
    "\n",
    "we use matmul but it is availiable in numpy"
   ]
  },
  {
   "cell_type": "code",
   "execution_count": 3,
   "id": "fce1ff37",
   "metadata": {},
   "outputs": [
    {
     "name": "stdout",
     "output_type": "stream",
     "text": [
      "[34 26]\n"
     ]
    }
   ],
   "source": [
    "from numpy import matmul\n",
    "h=matmul(A,B)\n",
    "print(h)"
   ]
  },
  {
   "cell_type": "markdown",
   "id": "d4edba21",
   "metadata": {},
   "source": [
    "**Determinant of matrix**  \n",
    "\n",
    "we use det"
   ]
  },
  {
   "cell_type": "code",
   "execution_count": 4,
   "id": "e68770dd",
   "metadata": {},
   "outputs": [
    {
     "name": "stdout",
     "output_type": "stream",
     "text": [
      "-14.0\n"
     ]
    }
   ],
   "source": [
    "from scipy.linalg import  det\n",
    "print(det(A)) "
   ]
  },
  {
   "cell_type": "markdown",
   "id": "d7bf0ce8",
   "metadata": {},
   "source": [
    "**Simple Inverse Matrix**  \n",
    "\n",
    "we use inv "
   ]
  },
  {
   "cell_type": "code",
   "execution_count": 5,
   "id": "97f5ebdb",
   "metadata": {},
   "outputs": [
    {
     "name": "stdout",
     "output_type": "stream",
     "text": [
      "[[ 0.07142857  0.21428571]\n",
      " [ 0.28571429 -0.14285714]]\n"
     ]
    }
   ],
   "source": [
    "from scipy.linalg import inv\n",
    "print(inv(A))"
   ]
  },
  {
   "cell_type": "markdown",
   "id": "1dfcff9a",
   "metadata": {},
   "source": [
    "**Basic Eigenvalues**  \n",
    "\n",
    "we use eig to find eigen values and eigen vector "
   ]
  },
  {
   "cell_type": "code",
   "execution_count": 6,
   "id": "2707248d",
   "metadata": {},
   "outputs": [
    {
     "name": "stdout",
     "output_type": "stream",
     "text": [
      "(array([ 3.+0.j, -1.+0.j]), array([[ 0.70710678, -0.70710678],\n",
      "       [ 0.70710678,  0.70710678]]))\n"
     ]
    }
   ],
   "source": [
    "from scipy.linalg import eig\n",
    "\n",
    "A = np.array([[1, 2], [2, 1]])\n",
    "print(eig(A))"
   ]
  },
  {
   "cell_type": "markdown",
   "id": "4f923349",
   "metadata": {},
   "source": [
    "here the output means:  \n",
    "\n",
    "array([ 3.+0.j, -1.+0.j])  \n",
    "\n",
    "These are the eigenvalues of A:\n",
    "\n",
    "- 3\n",
    "\n",
    "- -1\n",
    "\n",
    "(The +0.j means they are complex numbers, but here the imaginary part is zero.)\n",
    "\n",
    "array([[ 0.70710678, -0.70710678], [ 0.70710678,  0.70710678]]) are the eigenvectors of A,   \n",
    "\n",
    "arranged as columns:  \n",
    "\n",
    "The first column [0.707..., 0.707...] is the eigenvector for eigenvalue 3.  \n",
    "\n",
    "The second column [-0.707..., 0.707...] is the eigenvector for eigenvalue -1.\n",
    "\n",
    "The first array = eigenvalues  \n",
    "\n",
    "The second array = eigenvectors (each column corresponds to an eigenvalue)  \n",
    "\n",
    "\n"
   ]
  },
  {
   "cell_type": "markdown",
   "id": "81d1b164",
   "metadata": {},
   "source": [
    "**Least Squares (lstsq)**\n",
    "\n",
    "Purpose: Fit noisy data to a linear model.\n",
    "\n",
    "Watch this video if you don't know how to do least square fitting using matrix \n",
    "\n",
    "[Watch this video on YouTube](https://youtu.be/RlQBEhLhM8Y?si=O8fE6tJg6XyCIkGd)\n",
    "\n"
   ]
  },
  {
   "cell_type": "markdown",
   "id": "52ccc18d",
   "metadata": {},
   "source": [
    "![Image](https://www.sharetechnote.com/image/EngMath_LeastSquare_Matrix_01.png)\n",
    "\n",
    "\n",
    "so we need the matrix in this form "
   ]
  },
  {
   "cell_type": "markdown",
   "id": "c06e6ec3",
   "metadata": {},
   "source": [
    "**We can find the rate constant of a reaction using lstsq(least square fitting)**\n",
    "\n",
    "We want to express our first-order kinetic equation:\n",
    "\n",
    "ln[A] = -k*t + ln[A₀]\n",
    "\n",
    "in matrix form as:\n",
    "\n",
    "A * x = y\n",
    "\n",
    "where:\n",
    "\n",
    "A = design matrix (contains time values and 1's)\n",
    "\n",
    "x = unknown parameters [-k, ln[A₀]]\n",
    "\n",
    "y = observed values ln([A]) (shown as b in diagram)"
   ]
  },
  {
   "cell_type": "markdown",
   "id": "edb76e4a",
   "metadata": {},
   "source": [
    "**prerequisites before directly finding rate constant**"
   ]
  },
  {
   "cell_type": "code",
   "execution_count": 7,
   "id": "edd34a06",
   "metadata": {},
   "outputs": [
    {
     "name": "stdout",
     "output_type": "stream",
     "text": [
      "[[1 2 1]\n",
      " [3 5 6]]\n",
      "[[1 3]\n",
      " [2 5]\n",
      " [1 6]]\n"
     ]
    }
   ],
   "source": [
    "q=np.array([1, 2, 1])\n",
    "s=np.array([3, 5, 6])\n",
    "t=np.vstack((q, s))  # vertical stack\n",
    "print(t)\n",
    "print(t.T) #prints the transpose of the matrix"
   ]
  },
  {
   "cell_type": "code",
   "execution_count": 16,
   "id": "5a953784",
   "metadata": {},
   "outputs": [
    {
     "name": "stdout",
     "output_type": "stream",
     "text": [
      "Rate constant (k): -0.5521460917862244, Intercept: -0.002839947452170039\n",
      "[[0. 1.]\n",
      " [1. 1.]\n",
      " [2. 1.]\n",
      " [3. 1.]] is the design matrix\n",
      "(array([-0.27,  0.93]), 0.022999999999999948, 2, array([4.10003045, 1.09075677]))\n"
     ]
    }
   ],
   "source": [
    "from scipy.linalg import lstsq\n",
    "# Example: Fit reaction rate data (1st-order kinetics)\n",
    "time = np.array([0, 1, 2, 3])  # Time points\n",
    "concentration = np.array([1.0, 0.6, 0.3, 0.2])  # Experimental data\n",
    "A = np.vstack([time, np.ones(len(time))]).T  # Design matrix note: T is transpose\n",
    "k, ln_C0 = lstsq(A, np.log(concentration))[0]\n",
    "print(f\"Rate constant (k): {k}, Intercept: {ln_C0}\")\n",
    "print(A,\"is the design matrix\") \n",
    "print(lstsq(A, concentration)) # returns the rate constant and intercept\n",
    "\n"
   ]
  },
  {
   "cell_type": "code",
   "execution_count": null,
   "id": "6c3416ae",
   "metadata": {},
   "outputs": [
    {
     "name": "stdout",
     "output_type": "stream",
     "text": [
      "(array([-0.55214609, -0.00283995]), 0.013820380140128935, 2, array([4.10003045, 1.09075677]))\n"
     ]
    }
   ],
   "source": [
    "print(lstsq(A, np.log(concentration)))"
   ]
  },
  {
   "cell_type": "markdown",
   "id": "a01ad1cf",
   "metadata": {},
   "source": [
    "we can see above that lstsq returns a tuple with 4 values.\n",
    "\n",
    "1. Solution vector (x) [0]  \n",
    "\n",
    "   Contains the fitted parameters (what we want here)  \n",
    "\n",
    "   For our case: [-k, ln_C0]  \n",
    "\n",
    "\n",
    "2. Sum of squared residuals [1]  \n",
    "\n",
    "   Measures how good the fit is\n",
    "\n",
    "\n",
    "3. Rank of matrix A [2]\n",
    "\n",
    "\n",
    "4. Singular values of A [3]"
   ]
  },
  {
   "cell_type": "markdown",
   "id": "7f7c4546",
   "metadata": {},
   "source": [
    "**Optimization with SciPy:**\n",
    "\n",
    "Optimization is crucial in chemistry and ML for tasks like:  \n",
    "\n",
    "Fitting kinetic models to experimental data  \n",
    "\n",
    "Minimizing energy in molecular simulations  \n",
    "\n",
    "Training machine learning models  \n",
    "\n",
    "**what is optimization**\n",
    "\n",
    "Finding inputs (parameters) that give the best output (minimum/maximum) of a function.\n",
    "\n",
    "let f(x) is a function we are finding the best x that makes the function minimum or maximum\n",
    "\n",
    "**Types in SciPy:**  \n",
    "\n",
    "Minimization (most common),Curve Fitting,Root Finding.\n",
    "\n",
    "\n",
    "**Minimization**\n",
    "\n",
    "example : a simple quadartic equation.\n",
    "\n",
    "Find the minimum of: f(x) = (x-3)² + 5\n"
   ]
  },
  {
   "cell_type": "code",
   "execution_count": null,
   "id": "344a193c",
   "metadata": {},
   "outputs": [
    {
     "name": "stdout",
     "output_type": "stream",
     "text": [
      "  message: Optimization terminated successfully.\n",
      "  success: True\n",
      "   status: 0\n",
      "      fun: 5.000000000000001\n",
      "        x: [ 3.000e+00]\n",
      "      nit: 2\n",
      "      jac: [ 5.960e-08]\n",
      " hess_inv: [[ 5.000e-01]]\n",
      "     nfev: 6\n",
      "     njev: 3\n"
     ]
    }
   ],
   "source": [
    "from scipy.optimize import minimize\n",
    "def f(x):\n",
    "    return (x-3)**2 + 5\n",
    "result = minimize(f, x0=0)  # Initial guess is 0\n",
    "print(result)\n",
    "\n"
   ]
  },
  {
   "cell_type": "markdown",
   "id": "478fcfbe",
   "metadata": {},
   "source": [
    "so look the above output, the value of x which makes the function minimum is 3 (just \n",
    "\n",
    "differentiate and equate to zero) \n",
    "\n",
    "you may wonder how the new variable x0 is recognised, it is accepted by scipy you can either\n",
    "\n",
    "use x0=0 or just use minimise(f,0) , so what is this zero? it's just intial guess we are \n",
    "\n",
    "making, we can put whatever value there it still give 3 as x (doesn't work for functions  \n",
    "\n",
    "with many local mimima), when we give a guess k it will start from there and check nearby \n",
    "\n",
    "points and continue until it get the minimum value.\n",
    "\n",
    "it is like we are telling to look at the minima but start from here (x0=a point), if we \n",
    "\n",
    "know  that the x value is near to 3 \n",
    "\n"
   ]
  },
  {
   "cell_type": "code",
   "execution_count": null,
   "id": "2419370c",
   "metadata": {},
   "outputs": [
    {
     "name": "stdout",
     "output_type": "stream",
     "text": [
      "[2.99999997]\n",
      "[3.00000001]\n",
      "5.0\n"
     ]
    }
   ],
   "source": [
    "result1=minimize(f, 100)  # still we got x~3 but not exactly 3\n",
    "print(result1.x)\n",
    "result2=minimize(f,2.5)  # Initial guess is 2.5,  so it is faster  and accurate than the previous one\n",
    "print(result2.x)\n",
    "print(result2.fun)  # prints the value of the function at the minimum point\n",
    "                    # you can try just equate 3 as x we will get 5 as the value of the function which is the minimum value"
   ]
  },
  {
   "cell_type": "markdown",
   "id": "01275bb1",
   "metadata": {},
   "source": [
    "**Multi-Variable Optimization**\n",
    "\n"
   ]
  },
  {
   "cell_type": "code",
   "execution_count": null,
   "id": "e48a9fd7",
   "metadata": {},
   "outputs": [
    {
     "name": "stdout",
     "output_type": "stream",
     "text": [
      "[0.99999999 1.99999999]\n",
      "1.1605351293852836e-16\n",
      "[0.99999697 2.00000137]\n",
      "1.1042784757456621e-11\n"
     ]
    }
   ],
   "source": [
    "def f(twovaribles): #or you can use def f(x,y):\n",
    "    x,y = twovaribles\n",
    "    return (x-1)**2 + (y-2)**2\n",
    "\n",
    "# Good x0 (reasonable guess)\n",
    "result1 = minimize(f, x0=[0.5, 1.5])  # Finds [1., 2.]\n",
    "\n",
    "# Bad x0 (wild guess)\n",
    "result2 = minimize(f, x0=[100, -50])  # Still works but slower\n",
    "\n",
    "print(result1.x)  # Prints the optimal values of x and y\n",
    "print(result1.fun)  # Prints the minimum value of the function\n",
    "print(result2.x)  # Prints the optimal values of x and y\n",
    "print(result2.fun)  # Prints the minimum value of the function\n"
   ]
  },
  {
   "cell_type": "markdown",
   "id": "eac340d6",
   "metadata": {},
   "source": [
    "see , the better guess is 0.5 and 1.5 \n",
    "\n",
    "**When x0 Matters Most**\n",
    "\n",
    "Non-Convex Functions (Multiple Minima)"
   ]
  },
  {
   "cell_type": "code",
   "execution_count": null,
   "id": "cfb3380e",
   "metadata": {},
   "outputs": [
    {
     "name": "stdout",
     "output_type": "stream",
     "text": [
      "[-1.30644014]\n",
      "-0.7945823375615176\n",
      "[3.8374748]\n",
      "0.8315585579726694\n"
     ]
    }
   ],
   "source": [
    "def tricky_function(x):\n",
    "    return np.sin(x) + 0.1*x**2\n",
    "\n",
    "# Different x0 → Different results\n",
    "result1=minimize(tricky_function, x0=0)   # Finds a local minimum near x=0\n",
    "result2=minimize(tricky_function, x0=4)   # Finds a deeper minimum near x≈3.5\n",
    "print(result1.x)  # Prints the optimal value of x for the first guess\n",
    "print(result1.fun)  # Prints the minimum value of the function for the first guess\n",
    "print(result2.x)  # Prints the optimal value of x for the second guess\n",
    "print(result2.fun)  # Prints the minimum value of the function for the second guess"
   ]
  },
  {
   "cell_type": "markdown",
   "id": "7635f5d2",
   "metadata": {},
   "source": [
    "also, in areas like Physical/Chemical Constraints,Machine Learning Initialization the x0   \n",
    "\n",
    "matters.\n",
    "\n",
    "we can go through one more chemistry related example for \"minimize\", here we are finding   \n",
    "\n",
    "Lennard-Jones potential.The Lennard-Jones (L-J) potential describes the interaction between \n",
    "\n",
    "two neutral atoms/molecules\n",
    "\n",
    "$$\n",
    "V(r) = 4\\varepsilon \\left[ \\left( \\frac{\\sigma}{r} \\right)^{12} - \\left( \\frac{\\sigma}{r} \\right)^6 \\right]\n",
    "$$\n",
    "\n",
    "r - is the distance between atoms\n",
    "\n",
    "$\\sigma$ - is the distance where the potential energy is zero\n",
    "\n",
    "$\\varepsilon$ - shows the depth of potential well.\n",
    "\n",
    "for simplicity we are taking $\\sigma$ and $\\varepsilon$ as 1 in our code.\n",
    "\n",
    "before that you should know about linalg.norm - this will calculate the Euclidean distance\n",
    "\n",
    "$\\sqrt{x^2 + y^2 + z^2}$ if the vector or position(x,y,z) is given as input.\n",
    "\n",
    "goal is to find the minimum potential energy of these two atoms from the local mimima.\n",
    "\n",
    "\n",
    "\n"
   ]
  },
  {
   "cell_type": "code",
   "execution_count": 5,
   "id": "acfc73b8",
   "metadata": {},
   "outputs": [
    {
     "name": "stdout",
     "output_type": "stream",
     "text": [
      "[1.12246209]\n"
     ]
    }
   ],
   "source": [
    "# Simple Lennard-Jones potential (atom-atom interaction)\n",
    "from scipy import optimize\n",
    "import numpy as np\n",
    "def l_j_potential(position):\n",
    "    r=np.linalg.norm(position)  # Calculate distance from origin\n",
    "    return 4*(1/r**12 - 1/r**6)  # Lennard-Jones potential formula\n",
    "\n",
    "\n",
    "\n",
    "result=optimize.minimize(l_j_potential,1.5)  # Minimize the potential value\n",
    "print(result.x)  # Prints the optimal position that minimizes the potential\n",
    "    \n",
    "\n"
   ]
  },
  {
   "cell_type": "markdown",
   "id": "f5983883",
   "metadata": {},
   "source": [
    "np.linalg.norm enforces physical correctness by:\n",
    "\n",
    "Ensuring r ≥ 0.\n",
    "\n",
    "Preserving vector relationships.\n",
    "\n",
    "for example:\n"
   ]
  },
  {
   "cell_type": "code",
   "execution_count": 12,
   "id": "ab90610c",
   "metadata": {},
   "outputs": [
    {
     "name": "stdout",
     "output_type": "stream",
     "text": [
      "[1.12246209]\n",
      "[0.64805378 0.64805378 0.64805378]\n"
     ]
    }
   ],
   "source": [
    "# Compare two approaches\n",
    "def lj_r(r): \n",
    "    return 4*(1/r**12 - 1/r**6)  # Independent r\n",
    "def lj_pos(pos): \n",
    "    return lj_r(np.linalg.norm(pos))  # r from position\n",
    "\n",
    "# Both find the same minimum for a single distance\n",
    "print(optimize.minimize(lj_r, x0=1.5).x )     # Output: ~1.1225\n",
    "print(optimize.minimize(lj_pos, x0=[1,1,1]).x ) # Output: ~[0.65, 0.65, 0.65] (r ≈ 1.1225)"
   ]
  },
  {
   "cell_type": "code",
   "execution_count": 10,
   "id": "89747c35",
   "metadata": {},
   "outputs": [
    {
     "name": "stdout",
     "output_type": "stream",
     "text": [
      "[22.32309682 29.76413005 44.64619346]\n"
     ]
    }
   ],
   "source": [
    "#optimizing 3-D position\n",
    "def J_energy(position):\n",
    "    r = np.linalg.norm(position)\n",
    "    return 1 / r**2 \n",
    "result = optimize.minimize(J_energy, [1.5,2,3])\n",
    "print(result.x)  # Prints the optimal position that minimizes the energy"
   ]
  },
  {
   "cell_type": "markdown",
   "id": "5f47e15d",
   "metadata": {},
   "source": [
    "from the above example you should know why we use .norm."
   ]
  },
  {
   "cell_type": "code",
   "execution_count": null,
   "id": "81e2a267",
   "metadata": {},
   "outputs": [
    {
     "name": "stdout",
     "output_type": "stream",
     "text": [
      "5.196152422706632\n"
     ]
    }
   ],
   "source": [
    "#for molecular distance calculations\n",
    "k=np.array([1,2,3])#3-D position of atom k\n",
    "p=np.array([4,5,6])# 3-D position of atom p\n",
    "# Calculate the distance between atoms k and p\n",
    "distancebwatom=np.linalg.norm(k-p)\n",
    "print(distancebwatom)"
   ]
  },
  {
   "cell_type": "markdown",
   "id": "c625610d",
   "metadata": {},
   "source": [
    "**scipy.stats Module**  \n",
    "\n",
    "it is used for statistical analysis and probability distributions.  \n",
    "\n",
    "it have many functions and classes for statistical calculations, hypothesis testing and  \n",
    "\n",
    "generating random variables from  distributions.\n",
    "\n",
    "\n",
    "1. **Generating random variable**\n",
    "\n",
    "all distributions in scipy.stats use .rvs() for generating  random variables\n",
    "\n",
    "the general syntax is \n",
    "\n"
   ]
  },
  {
   "cell_type": "code",
   "execution_count": null,
   "id": "c9800cac",
   "metadata": {},
   "outputs": [],
   "source": [
    "from scipy.stats import distribution_name  # Replace with actual distribution name\n",
    "\n",
    "# Example usage of a distribution (e.g., normal distribution)\n",
    "\n",
    "samples=distribution_name.rvs(arg**,size=n)  # Replace arg** and size with actual parameters"
   ]
  },
  {
   "cell_type": "markdown",
   "id": "fcf97ce2",
   "metadata": {},
   "source": [
    "#### - Continuous distribution ####\n",
    "\n",
    "\n",
    "1. **Normal or Gaussian distribution**  \n",
    "\n",
    "\n"
   ]
  },
  {
   "cell_type": "code",
   "execution_count": 18,
   "id": "c094e15d",
   "metadata": {},
   "outputs": [
    {
     "name": "stdout",
     "output_type": "stream",
     "text": [
      "[-0.51911493 -0.15630618 -0.87588689  0.60419815 -0.53951723 -0.44906416\n",
      " -0.98422345 -0.48819655  1.01178629 -1.39943491]\n"
     ]
    }
   ],
   "source": [
    "from scipy.stats import norm\n",
    "\n",
    "# Generate 10 samples from N(μ=0, σ=1)\n",
    "samples = norm.rvs(loc=0, scale=1, size=10)\n",
    "print(samples)"
   ]
  },
  {
   "cell_type": "markdown",
   "id": "17a28dd4",
   "metadata": {},
   "source": [
    "μ (mu): This is the mean (average) of the distribution. In your code, it is set by loc=0, so\n",
    " \n",
    " μ = 0.\n",
    "\n",
    "σ (sigma): This is the standard deviation (spread) of the distribution. In your code, it is \n",
    "\n",
    "set by scale=1, so σ = 1.\n",
    "\n",
    "\n",
    "Mathematically:\n",
    "\n",
    "The normal distribution is written as\n",
    " $X \\sim \\mathcal{N}(\\mu, \\sigma^2)$ where:\n",
    "- $\\mu$ is the mean (center of the distribution)\n",
    "- $\\sigma$ is the standard deviation (width/spread)\n",
    "\n",
    "so but why we get -1.39 as output , we put scale($\\sigma$) as 1 ?\n",
    "\n",
    "![description](https://cdn.analyticsvidhya.com/wp-content/uploads/2024/11/image-17-2.webp)\n",
    "\n",
    "\n",
    "this is the graph of normal distribution , so scale($\\sigma$) = 1 means  most values (about \n",
    "\n",
    " 68%) will fall within one standard deviation of the mean (μ ± σ), so between -1 and 1 if μ \n",
    " \n",
    " = 0 and σ = 1.\n",
    "\n",
    " the normal distribution is continuous and extends infinitely in both directions.\n"
   ]
  },
  {
   "cell_type": "markdown",
   "id": "c6557d1b",
   "metadata": {},
   "source": [
    "**Uniform distribution**\n",
    "\n",
    "\n",
    "uniform distribution is a probability distribution in which all outcomes are equally likely \n",
    "\n",
    "within a certain interval.\n",
    "\n",
    "![djhbkhkj](https://i.ytimg.com/vi/UC-CBUSQXAo/hqdefault.jpg)\n",
    "\n",
    "\n",
    "Continuous uniform distribution: Every value between a and b has the same probability.\n",
    "\n",
    "Probability density function (PDF): $$ f(x) = \\frac{1}{b-a} \\quad \\text{for } a \\leq x \\leq b $$\n",
    "\n",
    "Example in SciPy:\n",
    "\n",
    "\n"
   ]
  },
  {
   "cell_type": "code",
   "execution_count": 23,
   "id": "66b4ff10",
   "metadata": {},
   "outputs": [
    {
     "name": "stdout",
     "output_type": "stream",
     "text": [
      "[0.27548983 2.31694374 3.24664108 3.12253987 2.98388386 1.0207345\n",
      " 1.80002487 4.04768708 2.66464618 1.49297728]\n"
     ]
    }
   ],
   "source": [
    "from scipy.stats import uniform\n",
    "# Generate 10 samples from a uniform distribution between 0 and 5\n",
    "value = uniform.rvs(loc=0, scale=5,size=10)\n",
    "print(value)  "
   ]
  },
  {
   "cell_type": "markdown",
   "id": "b6f928f9",
   "metadata": {},
   "source": [
    "### plot it using matplot, (try after learning plotting) ###\n",
    "\n",
    "but we can check what is happening, how to calculate the pdf and check is the output give \n",
    "\n",
    "constant pdf values in the given scale.\n",
    "\n"
   ]
  },
  {
   "cell_type": "code",
   "execution_count": 27,
   "id": "c6d892c8",
   "metadata": {},
   "outputs": [
    {
     "name": "stdout",
     "output_type": "stream",
     "text": [
      "0.2\n",
      "0.2\n",
      "0.2\n",
      "0.2\n",
      "0.2\n",
      "0.2\n",
      "0.2\n"
     ]
    }
   ],
   "source": [
    "#to check the pdf , we can use the pdf method\n",
    "pdf_valuex1=uniform.pdf(x=0.27548983,loc=0,scale=5)\n",
    "pdf_valuex2=uniform.pdf(x=2.31694374,loc=0,scale=5)\n",
    "pdf_valuex3=uniform.pdf(x=3.24664108,loc=0,scale=5)\n",
    "pdf_valuex4=uniform.pdf(x=3.12253987,loc=0,scale=5)\n",
    "pdf_valuex5=uniform.pdf(x=2.98388386,loc=0,scale=5)\n",
    "pdf_valuex6=uniform.pdf(x=1.0207345,loc=0,scale=5)\n",
    "pdf_valuex7=uniform.pdf(x=1.80002487,loc=0,scale=5)\n",
    "print(pdf_valuex1)\n",
    "print(pdf_valuex2)\n",
    "print(pdf_valuex3)\n",
    "print(pdf_valuex4)\n",
    "print(pdf_valuex5)\n",
    "print(pdf_valuex6)\n",
    "print(pdf_valuex7)\n"
   ]
  },
  {
   "cell_type": "markdown",
   "id": "1da77405",
   "metadata": {},
   "source": [
    "**Exponential Distribution**  \n",
    "\n",
    "do you remember radioactive decay? we use exponential pdf to find the rate!\n",
    "\n",
    "![jgjhhgjh](https://slideplayer.com/slide/14566774/90/images/4/Exponential+Decay+Equation.jpg)\n",
    "\n",
    "\n",
    "The probability density function (PDF) is: $$ f(x; \\lambda) = \\lambda e^{-\\lambda x} \\quad \\text{for } x \\geq 0 $$\n",
    "\n",
    "note:function is zero for x<0\n",
    "\n",
    "so the input example is \"You measure how many seconds pass between two radioactive decays\"\n",
    "\n",
    "\"You do this many times and get values like: 1.2 sec, 0.5 sec, 2.1 sec... and store it as \n",
    "\n",
    "array\"\n",
    "\n",
    "goal: Generate synthetic data that mimics your real system, using expon.rvs(...)\n",
    "\n",
    "\n",
    "\n"
   ]
  },
  {
   "cell_type": "markdown",
   "id": "71a74e96",
   "metadata": {},
   "source": [
    "$\n",
    "f(x; \\lambda) = \\lambda e^{-\\lambda x} \\quad \\text{for } x \\geq 0\n",
    "$\n",
    "\n",
    "- $\\lambda$ is the **rate parameter** (events per unit time).\n",
    "\n",
    "\n",
    "\n",
    " **SciPy/Python Convention**\n",
    "\n",
    "In SciPy, we use **scale** instead of $\\lambda$:\n",
    "\n",
    "$\n",
    "\\text{scale} = \\frac{1}{\\lambda}\n",
    "$\n",
    "\n",
    "So the PDF becomes:\n",
    "\n",
    "$\n",
    "f(x; \\text{scale}) = \\frac{1}{\\text{scale}} \\cdot e^{-x/\\text{scale}} \\quad \\text{for } x \\geq 0\n",
    "$"
   ]
  },
  {
   "cell_type": "code",
   "execution_count": null,
   "id": "f3aad719",
   "metadata": {},
   "outputs": [
    {
     "name": "stdout",
     "output_type": "stream",
     "text": [
      "[1.49698049 0.24560683 1.33437414 1.47672103 2.46592458 3.60148793\n",
      " 1.28357119 1.36292313]\n"
     ]
    }
   ],
   "source": [
    "from scipy.stats import expon\n",
    "\n",
    "k=expon.rvs(scale=2,size=8)# Generate 5 samples with mean=2 (so lambda=0.5)\n",
    "                                 #note: loc is the mean and scale is the standard deviation ie 1/lambda\n",
    "print(k)                        ## loc=0 is the default,You’d only specify loc if you want to shift the distribution."
   ]
  },
  {
   "cell_type": "markdown",
   "id": "02ea3034",
   "metadata": {},
   "source": [
    "\n",
    "**Common Probability Distributions in SciPy**\n",
    "\n",
    "\n",
    "\n",
    "| Distribution | Key Parameters         | Notes                        |\n",
    "|--------------|-----------------------|------------------------------|\n",
    "| **Normal**   | `loc=μ`, `scale=σ`    | Mean = μ, Std Dev = σ        |\n",
    "| **Uniform**  | `loc=a`, `scale=b-a`  | Interval: [a, b]             |\n",
    "| **Exponential** | `scale=1/λ`        | Mean waiting time = 1/λ     |\n",
    "\n",
    "\n",
    "\n",
    "\n",
    "\n",
    "**Notes:**\n",
    "- `loc` is the starting point (mean or lower bound).\n",
    "\n",
    "- `scale` is the spread (std dev, interval width, or mean waiting time).\n",
    "\n",
    "- so these are continous distributions\n",
    "\n",
    "\n",
    "#### Discrete Distributions ##\n",
    "\n",
    "**Poisson Distribution** (just go through don't need to dive deep here)\n",
    "\n",
    "\n",
    "\n"
   ]
  },
  {
   "cell_type": "code",
   "execution_count": 31,
   "id": "12bd3ffa",
   "metadata": {},
   "outputs": [
    {
     "name": "stdout",
     "output_type": "stream",
     "text": [
      "[3 3 4 0 4 5]\n"
     ]
    }
   ],
   "source": [
    "from scipy.stats import poisson\n",
    "\n",
    "# 6 samples with λ=3 (mean events per interval)\n",
    "samples = poisson.rvs(mu=3, size=6)\n",
    "print(samples)  # e.g., [2, 4, 3, 1, 5, 3]"
   ]
  },
  {
   "cell_type": "markdown",
   "id": "51fef170",
   "metadata": {},
   "source": [
    "**Binomial Distribution**\n"
   ]
  },
  {
   "cell_type": "code",
   "execution_count": 32,
   "id": "20dba3bb",
   "metadata": {},
   "outputs": [
    {
     "name": "stdout",
     "output_type": "stream",
     "text": [
      "[3 1 6 3 2 3 2]\n"
     ]
    }
   ],
   "source": [
    "from scipy.stats import binom\n",
    "\n",
    "# 7 samples: n=10 trials, p=0.3 success prob\n",
    "samples = binom.rvs(n=10, p=0.3, size=7)\n",
    "print(samples)  # e.g., [3, 2, 4, 3, 1, 2, 3]"
   ]
  },
  {
   "cell_type": "markdown",
   "id": "ba05cbc6",
   "metadata": {},
   "source": [
    "**practical application**\n",
    "\n",
    "Molecular Dynamics (Velocity Initialization)\n"
   ]
  },
  {
   "cell_type": "code",
   "execution_count": 34,
   "id": "9ff887b8",
   "metadata": {},
   "outputs": [
    {
     "name": "stdout",
     "output_type": "stream",
     "text": [
      "[680.29181322 373.09637286 327.77361427 514.03246868 691.60413345\n",
      " 567.42777442 225.51985835 217.21723877  34.96243243 412.26210225]\n"
     ]
    }
   ],
   "source": [
    "from scipy.stats import maxwell\n",
    "kB = 1.38e-23  # Boltzmann constant in J/K\n",
    "T = 300        # Temperature in Kelvin\n",
    "m = 4.65e-26   # Mass of particle in kg (example: nitrogen molecule)\n",
    "# Generate initial velocities (Maxwell-Boltzmann distribution)\n",
    "velocities = maxwell.rvs(scale=np.sqrt(kB*T/m), size=10)\n",
    "print(velocities)  # Prints the generated velocities of particles"
   ]
  },
  {
   "cell_type": "markdown",
   "id": "9c44eb94",
   "metadata": {},
   "source": [
    "Drug Response Simulation\n",
    "\n",
    "EC50=Effective Concentration at 50% response\n",
    "\n",
    "How much concentration of drug is needed to produce half of its maximum possible effect?”\n",
    "\n",
    "![uhgjhh](data:image/png;base64,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)\n",
    "\n"
   ]
  },
  {
   "cell_type": "code",
   "execution_count": 36,
   "id": "78e0cd77",
   "metadata": {},
   "outputs": [
    {
     "name": "stdout",
     "output_type": "stream",
     "text": [
      "[13.66031124 10.23636505 10.15695592 12.7996395  30.48450027 10.07224816\n",
      "  6.6717337   9.42286604  8.77890219  9.58622486  7.79812472 11.0968695\n",
      "  9.33158993  9.79497914  9.12578941 15.04588133 10.65694908 15.56435402\n",
      "  7.78567443 17.11534187]\n"
     ]
    }
   ],
   "source": [
    "from scipy.stats import lognorm\n",
    "\n",
    "# Simulate EC50 values (log-normal distribution)\n",
    "ec50 = lognorm.rvs(s=0.5, scale=10, size=20)  # s=shape, scale=e^μ\n",
    "print(ec50)  # Prints the generated EC50 values"
   ]
  },
  {
   "cell_type": "markdown",
   "id": "2c3f434f",
   "metadata": {},
   "source": [
    " **Quantum Chemistry (Electron Positions)**\n",
    "\n",
    " gamma can be used to simulate or model distances between electron and nucleus\n",
    " \n",
    "  (approximation).\n",
    "\n",
    "the gamma distribution looks like this:\n",
    "\n",
    "![jhghj](https://i.sstatic.net/1qYk5.png)\n",
    "\n"
   ]
  },
  {
   "cell_type": "code",
   "execution_count": null,
   "id": "2c0238c9",
   "metadata": {},
   "outputs": [
    {
     "name": "stdout",
     "output_type": "stream",
     "text": [
      "[0.42663103 1.03532984 0.86336046 1.11972308 0.62799541 0.27891543\n",
      " 1.00742107 2.08817593 1.18940394 1.30352322]\n"
     ]
    }
   ],
   "source": [
    "from scipy.stats import gamma\n",
    "\n",
    "k=gamma.rvs(a=2,scale=.5,size=10) # note : a is shape parameter and inbuilt, neccessary to define or else error will occur\n",
    "print(k)  # each k is the possible distance between the eletron and nucleaus"
   ]
  },
  {
   "cell_type": "markdown",
   "id": "c3c5ff39",
   "metadata": {},
   "source": [
    "Each k is the possible distance between the eletron and nucleus All are positive, many are \n",
    "\n",
    "close to zero, and fewer are large — just like electron distributions.\n",
    "\n",
    "\n",
    "Explanation:\n",
    "\n",
    "a (shape): Controls the steepness of the distribution.\n",
    "\n",
    "scale: Stretches or compresses the distribution. *note:*  scale = 1/rate\n",
    "\n",
    "size: Number of simulated distances (samples).\n"
   ]
  },
  {
   "cell_type": "markdown",
   "id": "0dac9b1d",
   "metadata": {},
   "source": [
    "**now we can learn how to customize your own distribution**(for future after mastering oops)\n"
   ]
  }
 ],
 "metadata": {
  "kernelspec": {
   "display_name": "chemml",
   "language": "python",
   "name": "python3"
  },
  "language_info": {
   "codemirror_mode": {
    "name": "ipython",
    "version": 3
   },
   "file_extension": ".py",
   "mimetype": "text/x-python",
   "name": "python",
   "nbconvert_exporter": "python",
   "pygments_lexer": "ipython3",
   "version": "3.11.12"
  }
 },
 "nbformat": 4,
 "nbformat_minor": 5
}
