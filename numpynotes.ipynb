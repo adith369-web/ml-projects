{
 "cells": [
  {
   "cell_type": "code",
   "execution_count": null,
   "id": "eb12e20e",
   "metadata": {},
   "outputs": [],
   "source": [
    "import numpy as np"
   ]
  },
  {
   "cell_type": "markdown",
   "id": "e227f74a",
   "metadata": {},
   "source": [
    "### Numpy Notes\n",
    "NumPy arrays are called **ndarray** objects, nd stands for n - dimension\n",
    "1-D numpy array is vector, 2-D is matrix.\n",
    "\n"
   ]
  },
  {
   "cell_type": "code",
   "execution_count": null,
   "id": "c655cfe1",
   "metadata": {},
   "outputs": [],
   "source": [
    "array=np.array([1, 2, 3, 4, 5]) # creates a 1-D array\n",
    "print(type(array))"
   ]
  },
  {
   "cell_type": "markdown",
   "id": "b0e82642",
   "metadata": {},
   "source": [
    "**how to create an array in numpy ?**\n",
    "\n",
    "numpy.array(list) this is the general form \n",
    " \n",
    "or numpy.array([1,2....])"
   ]
  },
  {
   "cell_type": "code",
   "execution_count": null,
   "id": "39f1f6cc",
   "metadata": {},
   "outputs": [],
   "source": [
    "#eg:\n",
    "np.array([1, 2, 3, 4, 5]) # creates a 1-D array\n",
    "\n",
    "#or\n",
    "k=[1,2,3,4,5]\n",
    "np.array(k)\n"
   ]
  },
  {
   "cell_type": "code",
   "execution_count": null,
   "id": "c5cb5209",
   "metadata": {},
   "outputs": [],
   "source": [
    "the_first_arr_we_created = np.array(k) #or np.array([1, 2, 3, 4, 5])  creates a 1-D array\n",
    "print(the_first_arr_we_created) # here we need to use print function to see the output in the console\n",
    "                                # after establishing variable it won't show the output in the console by just running \n",
    "                                # but we can type that established variable name in the console to see the output even if we didn't use print(variable)\n",
    "# to check dimesions of the array we use .ndim\n",
    "print(the_first_arr_we_created.ndim) # 1-D array"
   ]
  },
  {
   "cell_type": "markdown",
   "id": "316c805b",
   "metadata": {},
   "source": [
    "**what is the difference between a list and an array ?.**\n",
    "- list can store different data type\n",
    "\n",
    "- eg:[1,2,\"apple\"]\n",
    "\n",
    "- but array can only store same data type \n",
    "\n",
    "- eg1: all integer or all floats, it can store strings also but there are some things to\n",
    " learn there **for future**\n",
    " \n",
    "- eg2: the code given below\n"
   ]
  },
  {
   "cell_type": "code",
   "execution_count": null,
   "id": "78e0a21d",
   "metadata": {},
   "outputs": [],
   "source": [
    "# as we know k is a list\n",
    "print(k*2) # this will print the list twice\n",
    "print(the_first_arr_we_created*2) # this will not print the array twice, but it multiplies each element by 2"
   ]
  },
  {
   "cell_type": "markdown",
   "id": "c37c90f1",
   "metadata": {},
   "source": [
    "**Two-D array** \n",
    "\n",
    "2-D array is  a matrix   \n",
    " \n",
    "It can be created using the numpy.array() function by passing a list of lists as the \n",
    "\n",
    "argument, where each inner list represents a row in the matrix. For example, the following \n",
    "\n",
    "code creates a 4x3 matrix:"
   ]
  },
  {
   "cell_type": "code",
   "execution_count": null,
   "id": "0483d1ba",
   "metadata": {},
   "outputs": [],
   "source": [
    "h=np.array([[1,2,3],[4,5,6],[7,8,9],[10,11,12]]) # look each inner list is a row in the matrix and determines the number of rows in the matrix \n",
    "                                    # the number of elements in each inner list determines the number of columns in the matrix\n",
    "print(h)\n",
    "print(h.size) # prints the number of elements in the array\n",
    "print(h.ndim) # prints the number of dimensions of the array\n",
    "print(h.shape) # prints the shape of the array (number of rows, number of columns)\n",
    "print(h.dtype) # prints the data type of the elements in the array\n",
    "print(h[0]) # prints the first row of the array\n",
    "print(h[0][0]) # prints the first element of the first row of the array"
   ]
  },
  {
   "cell_type": "markdown",
   "id": "04f5ba9e",
   "metadata": {},
   "source": [
    "**3-D array**  \n",
    "\n",
    "A three-dimensional array in NumPy is an array of arrays, where each inner array represents \n",
    "\n",
    "a two-dimensional matrix.\n",
    "\n",
    "its like it have three matrix(2-d array) \n",
    "\n",
    "![Numpy Example](https://media.geeksforgeeks.org/wp-content/uploads/20240911184000/3d-array-breakdown.webp)\n",
    "\n",
    "\n",
    "\n",
    "![Numpy Example](https://media.geeksforgeeks.org/wp-content/uploads/20240911183848/3d-array-in-c.webp)\n"
   ]
  },
  {
   "cell_type": "code",
   "execution_count": null,
   "id": "ca2d507e",
   "metadata": {},
   "outputs": [],
   "source": [
    "#example for 3-D array\n",
    "arr3=np.array([[[1,2,3],[4,5,6],[7,8,9]],[[10,11,12],[13,14,15],[16,17,18]]]) # creates a 3-D array\n",
    "print(arr3)\n",
    "print(arr3.shape) #(2, 3, 3) # 2 matrices, each with 3 rows and 3 columns\n"
   ]
  },
  {
   "cell_type": "markdown",
   "id": "7c5743f6",
   "metadata": {},
   "source": [
    "**Reshape An Array**  \n",
    "\n",
    "We can use reshape() to reshape an existing array, which change the shape of an existing array.\n",
    "\n",
    "Using it we can change no of elements in each dimension & also change the dimension. \n",
    "\n",
    "also note that $A^T$ is a reshaping.\n",
    "\n",
    "\n",
    "![Description](image.png)\n",
    "\n",
    "1.**1-D to 2-D array** \n",
    " \n",
    "eg: we are converting a 1-D array(6) to 2-D array (2,3)\n"
   ]
  },
  {
   "cell_type": "code",
   "execution_count": null,
   "id": "97fbc155",
   "metadata": {},
   "outputs": [],
   "source": [
    "arr1=np.array([1,2,3,4,5,6]) #it creates a 1-D array\n",
    "print(arr1,\"is the 1-D array\")\n",
    "arr2=arr1.reshape(2,3)\n",
    "print(arr2,\"is the 2-D array\")"
   ]
  },
  {
   "cell_type": "markdown",
   "id": "8a27e5cd",
   "metadata": {},
   "source": [
    "**2. 1-D to 3-D array** \n",
    "\n",
    "![Description](hihi.png)  \n",
    "\n",
    "here we are converting (8) to (2,2,2) \n",
    " \n",
    "ie from [1,2,3,4,5,6,7,8] to [[[1,2],[3,4]],      \n",
    "```                       ``` [[5,6],[7,8]]]     "
   ]
  },
  {
   "cell_type": "code",
   "execution_count": null,
   "id": "c27a4e1a",
   "metadata": {},
   "outputs": [],
   "source": [
    "arr1=np.array([1,2,3,4,5,6,7,8])\n",
    "arr3=arr1.reshape(2,2,2) #it creates a 3-D array\n",
    "print(arr3,\"is the 3-D array\")"
   ]
  },
  {
   "cell_type": "markdown",
   "id": "162ac63f",
   "metadata": {},
   "source": [
    "**3. 2-D to 3-D array**\n"
   ]
  },
  {
   "cell_type": "code",
   "execution_count": null,
   "id": "79b234ad",
   "metadata": {},
   "outputs": [],
   "source": [
    "arr2=np.array([[1,2,3,4],[3,4,5,6]])\n",
    "arr3=np.array([[[1,2],[3,4]],[[3,4],[7,8]]]) #it creates a 3-D array\n",
    "print(arr3,\"is the 3-D array\")\n",
    "arr4=arr2.reshape(2,2,2) #it creates a 3-D array\n",
    "print (arr4,\"is the 3-D array\")"
   ]
  },
  {
   "cell_type": "markdown",
   "id": "07cd4d16",
   "metadata": {},
   "source": [
    "**to convert any dimension to 1-D**  \n",
    "\n",
    "**note:**use this code : arr1d=arr.reshape(-1)"
   ]
  },
  {
   "cell_type": "code",
   "execution_count": null,
   "id": "5a79c1d8",
   "metadata": {},
   "outputs": [],
   "source": [
    "arr5=arr4.reshape(-1) #to convert any dimension to 1-D\n",
    "print(arr5,\"is the 1-D array\")"
   ]
  },
  {
   "cell_type": "markdown",
   "id": "5ea0f900",
   "metadata": {},
   "source": [
    "### Data types in Numpy ###\n",
    "![Numpy Example](https://1.bp.blogspot.com/-xrnk-4zD2Ac/W1LCbjrSjjI/AAAAAAAAXUY/8QJ0AZBxsQ0h6BgUV4kml0NqIO_hOs2KwCLcBGAs/s1600/4212_t2-1.PNG)  \n",
    "\n",
    "**Why Do We Need to Specify Data Types (dtypes) in NumPy?**  \n",
    "- Unlike Python lists (which store flexible objects), NumPy arrays store data in contiguous memory blocks.  \n",
    "Each element has a fixed size (e.g., int32 = 4 bytes, float64 = 8 bytes).  \n",
    "\n",
    "Example: For large arrays, using int16 instead of int64 reduces memory usage by 75%.  \n",
    "\n",
    "- Some libraries (e.g., TensorFlow, PyTorch) require specific dtypes.\n",
    "GPUs work best with float32 (not Python’s default float64).\n",
    "\n",
    "- there are many examples:  \n",
    "\n",
    "\n",
    "Problem: Integers have fixed ranges (e.g., int8 = -128 to 127). Large numbers cause overflow:\n"
   ]
  },
  {
   "cell_type": "code",
   "execution_count": 77,
   "id": "d422b1e0",
   "metadata": {},
   "outputs": [
    {
     "name": "stderr",
     "output_type": "stream",
     "text": [
      "/var/folders/1t/v6x5wtq16578dh60q4cgw8x80000gn/T/ipykernel_19787/3310169046.py:1: DeprecationWarning: NumPy will stop allowing conversion of out-of-bound Python integers to integer arrays.  The conversion of 200 to int8 will fail in the future.\n",
      "For the old behavior, usually:\n",
      "    np.array(value).astype(dtype)\n",
      "will give the desired result (the cast overflows).\n",
      "  arr = np.array([100, 200, 300], dtype='int8')  # Fails! 300 > 127 you can see cast overflows in error message if you run this\n",
      "/var/folders/1t/v6x5wtq16578dh60q4cgw8x80000gn/T/ipykernel_19787/3310169046.py:1: DeprecationWarning: NumPy will stop allowing conversion of out-of-bound Python integers to integer arrays.  The conversion of 300 to int8 will fail in the future.\n",
      "For the old behavior, usually:\n",
      "    np.array(value).astype(dtype)\n",
      "will give the desired result (the cast overflows).\n",
      "  arr = np.array([100, 200, 300], dtype='int8')  # Fails! 300 > 127 you can see cast overflows in error message if you run this\n"
     ]
    }
   ],
   "source": [
    "arr = np.array([100, 200, 300], dtype='int8')  # Fails! 300 > 127 you can see cast overflows in error message if you run this"
   ]
  },
  {
   "cell_type": "markdown",
   "id": "d81bcc18",
   "metadata": {},
   "source": [
    "Solution: Convert to a larger dtype (int16, int32, or float):"
   ]
  },
  {
   "cell_type": "code",
   "execution_count": 78,
   "id": "93c13a24",
   "metadata": {},
   "outputs": [],
   "source": [
    "arr_safe = arr.astype('int16')  # Now works"
   ]
  },
  {
   "cell_type": "markdown",
   "id": "e695d2ec",
   "metadata": {},
   "source": [
    "**We can create array with specific data types**\n",
    "\n",
    "\n",
    "\n",
    "**we  also can convert the data type of array to other datatype by using astype() function**"
   ]
  },
  {
   "cell_type": "code",
   "execution_count": 79,
   "id": "2014ff37",
   "metadata": {},
   "outputs": [
    {
     "name": "stdout",
     "output_type": "stream",
     "text": [
      "int64\n",
      "float32\n",
      "int32\n",
      "float32\n"
     ]
    }
   ],
   "source": [
    "k=np.array([1,2,3,4,5])\n",
    "print(k.dtype)  # prints the data type of the elements in the array\n",
    "# out put print the default data type of the array\n",
    "\n",
    "\n",
    "# if you want to change the data type of the array you can use the astype()\n",
    "k_float = k.astype('float32')  # converts the array to float32 data type\n",
    "print(k_float.dtype)  # prints the data type of the elements in the array after conversion\n",
    "\n",
    "\n",
    "# you can also use the dtype parameter in the np.array() function to create an array with a specific data type\n",
    "k_int = np.array([1, 2, 3, 4, 5], dtype='int32')  # creates an array with int32 data type\n",
    "print(k_int.dtype)  # prints the data type of the elements in the array after creation\n",
    "\n",
    "\n",
    "# you can also use the np.float32() function to create an array with float32 data type\n",
    "k_float32 = np.float32([1, 2, 3, 4, 5])  # creates an array with float32 data type\n",
    "print(k_float32.dtype)  # prints the data type of the elements in the array after creation"
   ]
  },
  {
   "cell_type": "markdown",
   "id": "b68cf5d9",
   "metadata": {},
   "source": [
    "**Array Indexing**\n",
    "\n",
    "**for 1-D array** \n",
    "\n",
    "same as list logic for 1-D array ([1,2,3,4] → 0,1,2,3 index )\n",
    "\n",
    "**for 2-D array**  \n",
    "\n",
    "same like  maths matrix but start from zero instead of 1\n",
    "\n",
    "a<sub>11</sub> in maths is a<sub>00</sub> in array\n",
    "\n",
    "we call it as array[1,0] gives first element.\n",
    "\n",
    "**for 3-D array**\n",
    "\n",
    "we call it like array[matrix number, 2-D index, 2-D index]\n",
    "\n",
    "so the shorcut for 2-D index is a<sub>k-1,n-1</sub>    n,k are maths matrix notation\n",
    "\n",
    "for example:\n",
    "\n",
    "\n",
    "\n"
   ]
  },
  {
   "cell_type": "code",
   "execution_count": 80,
   "id": "0bf285c0",
   "metadata": {},
   "outputs": [
    {
     "name": "stdout",
     "output_type": "stream",
     "text": [
      "[[[ 1  2  3]\n",
      "  [ 4  5  6]\n",
      "  [ 7  8  9]]\n",
      "\n",
      " [[10 11 12]\n",
      "  [13 14 15]\n",
      "  [16 17 18]]]\n",
      "1\n",
      "2\n",
      "14\n"
     ]
    }
   ],
   "source": [
    "f=np.array([[[1,2,3,],[4,5,6],[7,8,9]],[[10,11,12],[13,14,15],[16,17,18]]])\n",
    "print(f)  # creates a 3-D array\n",
    "print(f[0,0,0])  # prints the first element of the first row of the first matrix of the 3-D array\n",
    "print(f[0,0,1])  # prints second element of first matrix\n",
    "print(f[1,1,1]) #prints a22(maths notation) of second matrix "
   ]
  },
  {
   "cell_type": "markdown",
   "id": "59b99f4b",
   "metadata": {},
   "source": [
    "**Array slicing**  \n",
    "\n",
    "Slicing is a way to select parts of an array by specifying start, stop, and step values.\n",
    "\n",
    "array[start:stop:step]\n",
    "\n",
    "start: Index where the slice begins (inclusive). Default = 0\n",
    "\n",
    "stop: Index where the slice ends (exclusive). Default = len(array)\n",
    "\n",
    "step: How many elements to skip. Default = 1\n",
    "\n",
    "note: start includes the element in we mentioned in slicing index but end excludes the \n",
    "\n",
    "element index we wrote in slicing index.\n",
    "\n",
    "you may feel like if end index is n we get last element from index of (n-step) this works \n",
    "\n",
    "for most cases but its not true its only true  if (end - step) lies on the step path\n",
    "\n",
    "starting from start. sometimes end - step goes beyond starting index for example.\n"
   ]
  },
  {
   "cell_type": "code",
   "execution_count": 81,
   "id": "5eace52f",
   "metadata": {},
   "outputs": [
    {
     "name": "stdout",
     "output_type": "stream",
     "text": [
      "[0, 2, 4]\n"
     ]
    },
    {
     "data": {
      "text/plain": [
       "[3]"
      ]
     },
     "execution_count": 81,
     "metadata": {},
     "output_type": "execute_result"
    }
   ],
   "source": [
    "arr = list(range(10))  # [0, 1, 2, 3, 4, 5, 6, 7, 8, 9]\n",
    "\n",
    "k=arr[0:6:2]  # → [0, 2, 4]\n",
    "print(k)\n",
    "\n",
    "arr[3:7:5]  # → [3] but 7 - 5 is 2 ie element 2 which is not write"
   ]
  },
  {
   "cell_type": "markdown",
   "id": "dc3bdd1d",
   "metadata": {},
   "source": [
    "arr = np.array([10, 20, 30, 40, 50])\n",
    "\n",
    "these are simple examples:\n",
    "\n",
    "print(arr[1:4])  &nbsp;&nbsp;&nbsp;&nbsp;&nbsp;&nbsp;&nbsp;  gives &nbsp;&nbsp;&nbsp;  [20, 30, 40] (indexes 1 to 3)\n",
    "\n",
    "print(arr[:3])   &nbsp;&nbsp;&nbsp;&nbsp;&nbsp;&nbsp;&nbsp; gives &nbsp;&nbsp;&nbsp;  [10, 20, 30] (start to index 2)  \n",
    "\n",
    "print(arr[2:])   &nbsp;&nbsp;&nbsp;&nbsp;&nbsp;&nbsp;&nbsp;  gives  &nbsp;&nbsp;&nbsp; [30, 40, 50] (index 2 to end)  \n",
    "\n",
    "print(arr[::2])   &nbsp;&nbsp;&nbsp;&nbsp;&nbsp;&nbsp;&nbsp;   gives &nbsp;&nbsp;&nbsp;  [10, 30, 50] (every 2nd element)  \n",
    "\n",
    "\n",
    "Negative Indices: Count from the end  \n",
    "\n",
    "arr = np.array([10, 20, 30, 40]) &nbsp;&nbsp;&nbsp;(negative index is -4,-3,-2,-1)   \n",
    "\n",
    "print(arr[-3:-1]) &nbsp;&nbsp;&nbsp;&nbsp;&nbsp;&nbsp;&nbsp;   gives  [20, 30] &nbsp;&nbsp;&nbsp;(3rd from end to 1st from end) (direction is still left to right)( exclued last element -1)  \n",
    "\n",
    "arr[:] &nbsp;&nbsp;&nbsp;\t copy full array  ,\tDefault start=0, end=len(arr)  \n",
    "\n",
    "arr[3:]\t &nbsp;&nbsp;&nbsp;From index 3 to end\tOmitting end , includes everything after start  \n",
    "\n",
    "arr[::-1] &nbsp;&nbsp;&nbsp;\tReversed array &nbsp;&nbsp;&nbsp;\t, Negative step reverses direction  \n",
    "\n",
    "note:end is always excluded (like how range(0, 5) generates 0-4).  \n",
    "\n",
    "first_half = arr[:len(arr)//2]  &nbsp;&nbsp;&nbsp; gives  0 to mid , len of array is last index + 1  \n",
    "\n",
    "second_half = arr[len(arr)//2:]  &nbsp;&nbsp;&nbsp; gives mid to end  \n"
   ]
  },
  {
   "cell_type": "markdown",
   "id": "5e971aab",
   "metadata": {},
   "source": [
    "**How to get rows and coloumns from array**  \n",
    "\n",
    "1. **2-D array**\n",
    "\n",
    "\n"
   ]
  },
  {
   "cell_type": "code",
   "execution_count": 83,
   "id": "cafe26e3",
   "metadata": {},
   "outputs": [],
   "source": [
    "b = np.array([\n",
    "  [1, 2, 3],\n",
    "  [4, 5, 6],\n",
    "  [7, 8, 9]\n",
    "])"
   ]
  },
  {
   "cell_type": "markdown",
   "id": "68003ed6",
   "metadata": {},
   "source": [
    "**to get row and coloumn :**  \n",
    "\n",
    "in 2-D:\n",
    "\n",
    "for row:\n",
    "\n",
    "we can either use a[i] or a[i,:] \n",
    "\n",
    "note : consider imaginery start and end in :  , so a[i,:] means  $i^th$ row and iterate \n",
    "\n",
    "through start to end\n",
    "\n",
    "for column:  \n",
    "\n",
    "a[:, j]\n"
   ]
  },
  {
   "cell_type": "code",
   "execution_count": 89,
   "id": "1d07f1c9",
   "metadata": {},
   "outputs": [
    {
     "name": "stdout",
     "output_type": "stream",
     "text": [
      "[1 2 3]\n",
      "[4 5 6]\n",
      "[[1 2 3]\n",
      " [4 5 6]]\n",
      "[7 8 9]\n",
      "[2 5 8]\n",
      "[[2 3]\n",
      " [5 6]\n",
      " [8 9]]\n"
     ]
    }
   ],
   "source": [
    "print(b[0] )      # → [1, 2, 3]  → 1st row \n",
    "print(b[1, :])    # → [4, 5, 6]  → 2nd row\n",
    "print(b[0:2,:])   # prints the first two rows\n",
    "print(b[-1,:])  # → [7, 8, 9]  → last row\n",
    "print(b[:, 1])  # → [2, 5, 8]  → 2nd column\n",
    "print(b[:, 1:3])  # → [[2, 3], [5, 6], [8, 9]]  → 2nd and 3rd columns"
   ]
  },
  {
   "cell_type": "markdown",
   "id": "10f53a1e",
   "metadata": {},
   "source": [
    "for 3-D  rows and columns :\n",
    "\n",
    "a[d, i, :] , so $d^th$ matrix, $i^th$ row , iterate from start to end within i \n",
    "\n"
   ]
  },
  {
   "cell_type": "code",
   "execution_count": 92,
   "id": "88a18f07",
   "metadata": {},
   "outputs": [
    {
     "name": "stdout",
     "output_type": "stream",
     "text": [
      "[[1 2 3]\n",
      " [4 5 6]]\n",
      "[1 2 3]\n",
      "[10 11 12]\n",
      "2\n",
      "[[1 2 3]\n",
      " [4 5 6]]\n"
     ]
    }
   ],
   "source": [
    "c = np.array([\n",
    "  [ [1, 2, 3],\n",
    "    [4, 5, 6] ],\n",
    "\n",
    "  [ [7, 8, 9],\n",
    "    [10, 11, 12] ]\n",
    "])\n",
    "# Shape: (2 matrix, 2 rows, 3 columns)\n",
    "\n",
    "print(c[0])       # prints the first matrix\n",
    "print(c[0, 0, :])  # → [1, 2, 3]  → 1st matrix, 1st row\n",
    "print(c[1, 1, :])  # → [10, 11, 12]  → 2nd matrix, 2nd row\n",
    "print(c[0, 0, 1])  # → 2  → 1st matrix, 1st row, 2nd element\n",
    "print(c[0,0:2,:])  #prints the first two rows of the first matrix (the last two indexes are same like 2-D)\n"
   ]
  },
  {
   "cell_type": "markdown",
   "id": "6c022724",
   "metadata": {},
   "source": [
    "**Assigning values to an array**"
   ]
  },
  {
   "cell_type": "code",
   "execution_count": 94,
   "id": "9b45635f",
   "metadata": {},
   "outputs": [
    {
     "name": "stdout",
     "output_type": "stream",
     "text": [
      "[10  2  3  4  5]\n",
      "[[10  2  3]\n",
      " [ 4  5  6]\n",
      " [ 7  8  9]]\n",
      "[[11 12 13]\n",
      " [14 15 16]\n",
      " [ 7  8  9]]\n"
     ]
    }
   ],
   "source": [
    "# assigning values to an array.\n",
    "d = np.array([1, 2, 3, 4, 5])\n",
    "d[0] = 10  # changes the first element to 10\n",
    "print(d)  # prints the modified array\n",
    "g=np.array([[1,2,3],[4,5,6],[7,8,9]])\n",
    "g[0,0]=10 # changes the first element of the first row to 10\n",
    "print(g)  # prints the modified array\n",
    "g[-3:-1,:] = [[11, 12, 13], [14, 15, 16]]  # changes the first two rows to new values\n",
    "print(g)  # prints the modified array   "
   ]
  },
  {
   "cell_type": "markdown",
   "id": "def97189",
   "metadata": {},
   "source": [
    "** Arrays of Zeros in NumPy**\n",
    "\n",
    "general form is zero_array=np.zeros((shape)), shape can be (k) for k element in 1-D, (x,y) for 2-D etc.\n",
    "\n",
    "note:zero_array=np.zeros(1,2) gives error but zero_array=np.zeros((1,2)) is correct\n",
    "\n",
    "Arrays filled with zeros are fundamental in scientific computing and data science.\n",
    "\n",
    "Machine Learning: Weights in neural networks are often initialized to zeros before training.\n",
    "\n",
    "Machine Learning: Weights in neural networks are often initialized to zeros before training.\n"
   ]
  },
  {
   "cell_type": "code",
   "execution_count": null,
   "id": "629c0df6",
   "metadata": {},
   "outputs": [
    {
     "name": "stdout",
     "output_type": "stream",
     "text": [
      "[[0. 0. 0.]\n",
      " [0. 0. 0.]\n",
      " [0. 0. 0.]]\n"
     ]
    }
   ],
   "source": [
    "k=np.zeros((3,3))  # creates a 3x3 array of zeros\n",
    "print(k)  # prints the array of zeros"
   ]
  },
  {
   "cell_type": "code",
   "execution_count": 82,
   "id": "6e65c28f",
   "metadata": {},
   "outputs": [],
   "source": [
    "weights = np.zeros((100, 50))  # Layer with 100 inputs and 50 neurons\n",
    "# a matrix of 100 rows and 50 columns filled with zeros"
   ]
  },
  {
   "cell_type": "markdown",
   "id": "378ac383",
   "metadata": {},
   "source": [
    " **Masking and Filtering Data**  \n",
    "\n",
    "Boolean Masks: Create filters to select data (zeros = False, ones = True).\n",
    "\n",
    "bool is True for any Non-zero number like 1, 2,-5 etc.\n",
    "\n",
    "and False only for zero.\n",
    "\n",
    "bool(1)   # True  \n",
    "\n",
    "bool(0)   # False  \n",
    "\n",
    "bool(5)   # True  \n",
    "\n",
    "bool(-3)  # True  \n",
    "\n"
   ]
  },
  {
   "cell_type": "code",
   "execution_count": 95,
   "id": "076e0a1b",
   "metadata": {},
   "outputs": [
    {
     "name": "stdout",
     "output_type": "stream",
     "text": [
      "[False False False  True  True]\n",
      "[4 5]\n"
     ]
    }
   ],
   "source": [
    "data=np.array([1, 2, 3, 4, 5])\n",
    "mask=np.zeros(5, dtype=bool)  # creates a boolean mask of the same shape as data, initialized to False\n",
    "mask[-2:] = True  # sets the last two elements of the mask to True\n",
    "print(mask)  # prints the mask\n",
    "print(data[mask])  # prints the elements of data where mask is True, i.e [4, 5]"
   ]
  },
  {
   "cell_type": "markdown",
   "id": "99b5be65",
   "metadata": {},
   "source": [
    " **Padding Arrays for Operations**  \n",
    "\n",
    "Signal Processing: Zero-padding ensures proper alignment in Fourier transforms.  "
   ]
  },
  {
   "cell_type": "code",
   "execution_count": null,
   "id": "90b21ad6",
   "metadata": {},
   "outputs": [],
   "source": [
    "signal = np.array([1, 2, 3])\n",
    "padded = np.zeros(5)  # [0, 0, 0, 0, 0]\n",
    "padded[1:4] = signal  # [0, 1, 2, 3, 0]"
   ]
  },
  {
   "cell_type": "markdown",
   "id": "94014f59",
   "metadata": {},
   "source": [
    "**Benchmarking and Testing**  \n",
    "\n",
    "Performance Tests: Measure how long it takes to process large zero arrays.\n",
    "\n"
   ]
  },
  {
   "cell_type": "code",
   "execution_count": 98,
   "id": "5f307a8e",
   "metadata": {},
   "outputs": [
    {
     "name": "stdout",
     "output_type": "stream",
     "text": [
      "1.77 ms ± 5.96 μs per loop (mean ± std. dev. of 7 runs, 1,000 loops each)\n"
     ]
    }
   ],
   "source": [
    "big_array = np.zeros(10_000_000)  # 10 million elements\n",
    "%timeit big_array.sum()  # Test summation speed"
   ]
  },
  {
   "cell_type": "markdown",
   "id": "3dba51e2",
   "metadata": {},
   "source": [
    "**np.ones**  \n",
    "\n",
    "creates a NumPy array filled entirely with the value 1. It's one of the most frequently used \n",
    "\n",
    "array initialization functions.  \n",
    "\n",
    "same use like zeros for example in this also we can use boolean mask but here it is true for \n",
    "\n",
    "all element as 1 is a non-zero number "
   ]
  },
  {
   "cell_type": "code",
   "execution_count": 102,
   "id": "a172090c",
   "metadata": {},
   "outputs": [
    {
     "name": "stdout",
     "output_type": "stream",
     "text": [
      "[1. 1. 1. 1. 1.]\n",
      "[[1. 1. 1.]\n",
      " [1. 1. 1.]]\n",
      "[1 1 1]\n"
     ]
    }
   ],
   "source": [
    "\n",
    "\n",
    "# Create a 1D array of five 1's\n",
    "arr_1d = np.ones(5)  \n",
    "print(arr_1d)           # Output: [1., 1., 1., 1., 1.]\n",
    "\n",
    "# Create a 2x3 matrix of 1's\n",
    "arr_2d = np.ones((2, 3))\n",
    "print(arr_2d)      # Output: [[1., 1., 1.], [1., 1., 1.]]\n",
    "\n",
    "# With a specific data type (e.g., integers)\n",
    "arr_int= np.ones(3, dtype=int)\n",
    "print(arr_int)  # Output: [1, 1, 1]"
   ]
  }
 ],
 "metadata": {
  "kernelspec": {
   "display_name": "chemml",
   "language": "python",
   "name": "python3"
  },
  "language_info": {
   "codemirror_mode": {
    "name": "ipython",
    "version": 3
   },
   "file_extension": ".py",
   "mimetype": "text/x-python",
   "name": "python",
   "nbconvert_exporter": "python",
   "pygments_lexer": "ipython3",
   "version": "3.11.12"
  }
 },
 "nbformat": 4,
 "nbformat_minor": 5
}
