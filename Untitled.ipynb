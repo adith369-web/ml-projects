{
 "cells": [
  {
   "cell_type": "code",
   "execution_count": 3,
   "id": "629aeeee-3147-43c9-9ea7-7ef1dc39a5e1",
   "metadata": {},
   "outputs": [
    {
     "name": "stdout",
     "output_type": "stream",
     "text": [
      "2.7.1\n",
      "CUDA available: False\n",
      "RDKit is working: True\n",
      "NumPy version: 1.26.4\n",
      "Pandas version: 2.3.0\n",
      "Matplotlib version: 3.10.3\n"
     ]
    }
   ],
   "source": [
    "import torch\n",
    "print(torch.__version__)\n",
    "print(\"CUDA available:\", torch.cuda.is_available())\n",
    "\n",
    "from rdkit import Chem\n",
    "print(\"RDKit is working:\", Chem.MolFromSmiles(\"CCO\") is not None)\n",
    "import numpy as np\n",
    "print(\"NumPy version:\", np.__version__)\n",
    "import pandas as pd\n",
    "print(\"Pandas version:\", pd.__version__)\n",
    "import matplotlib\n",
    "print(\"Matplotlib version:\", matplotlib.__version__)"
   ]
  },
  {
   "cell_type": "code",
   "execution_count": null,
   "id": "feea7a4a-c2dc-4a4a-bed1-1168c90525e5",
   "metadata": {},
   "outputs": [],
   "source": []
  }
 ],
 "metadata": {
  "kernelspec": {
   "display_name": "chemml",
   "language": "python",
   "name": "python3"
  },
  "language_info": {
   "codemirror_mode": {
    "name": "ipython",
    "version": 3
   },
   "file_extension": ".py",
   "mimetype": "text/x-python",
   "name": "python",
   "nbconvert_exporter": "python",
   "pygments_lexer": "ipython3",
   "version": "3.11.12"
  }
 },
 "nbformat": 4,
 "nbformat_minor": 5
}
