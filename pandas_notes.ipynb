{
 "cells": [
  {
   "cell_type": "markdown",
   "id": "8ec34404",
   "metadata": {},
   "source": [
    "## PANDAS notes ##\n",
    "\n",
    "**For what pandas are used ?**\n",
    "\n",
    "for handiling tabular data lik excel, csv files etc.\n",
    "\n",
    "performing data cleaning, filtering, summarizing.\n",
    "\n",
    "perparing data for machinelearning.\n",
    "\n",
    "\n",
    "\n"
   ]
  },
  {
   "cell_type": "code",
   "execution_count": 7,
   "id": "14291707",
   "metadata": {},
   "outputs": [],
   "source": [
    "import pandas as pd \n",
    "import numpy as np\n",
    "\n"
   ]
  },
  {
   "cell_type": "markdown",
   "id": "14e9b7aa",
   "metadata": {},
   "source": [
    "**How to create pandas data frame to a python dictionary**\n",
    "\n"
   ]
  },
  {
   "cell_type": "code",
   "execution_count": 10,
   "id": "ea43cf74",
   "metadata": {},
   "outputs": [
    {
     "name": "stdout",
     "output_type": "stream",
     "text": [
      "     cars  passing\n",
      "0     bmw        1\n",
      "1   volvo        2\n",
      "2  toyota        3\n"
     ]
    }
   ],
   "source": [
    "mydataset={\"cars\":[\"bmw\",\"volvo\",\"toyota\"],\"passing\":[1,2,3]}\n",
    "myvar=pd.DataFrame(mydataset)\n",
    "print(myvar)"
   ]
  },
  {
   "cell_type": "markdown",
   "id": "9481561b",
   "metadata": {},
   "source": [
    "here my dataset is a dictionary with cars and passing as key and the list as its values.\n",
    "\n",
    "```python \n",
    "pd.DataFrame(mydataset) \n",
    "```\n",
    "\n",
    "this convert the dictionary to padas dataframe with keys as column and corresponding list \n",
    "\n",
    "become datas of the column.\n",
    "\n",
    "as both are list and list is an ordered data so the position matters here, you can apply this\n",
    "\n",
    "concept in bag of words model."
   ]
  },
  {
   "cell_type": "markdown",
   "id": "213b3523",
   "metadata": {},
   "source": [
    "**Pandas Series**\n",
    "\n",
    "It is 1-D array which can hold any datatype  like intergers,float,strings,objects etc.\n",
    "\n",
    "it is simlar to excel spreadsheet or SQL.\n",
    "\n",
    "- each element have a labeled index , default index is 0,1,2.. whole numbers but we can \n",
    "\n",
    "assign custom indices(labels)\n",
    "\n",
    "- can store different datatypes unlike numpy arrays\n",
    "\n",
    "- provide built in functions like mean(),sum(),value_counts() etc.\n",
    "\n",
    "- numpy array is better for mathematical computations and pandas series is better for \n",
    "\n",
    "     tabular data"
   ]
  },
  {
   "cell_type": "code",
   "execution_count": 11,
   "id": "77931b92",
   "metadata": {},
   "outputs": [
    {
     "name": "stdout",
     "output_type": "stream",
     "text": [
      "0    1\n",
      "1    2\n",
      "2    3\n",
      "3    4\n",
      "dtype: int64\n"
     ]
    }
   ],
   "source": [
    "k=pd.Series([1,2,3,4])\n",
    "print(k)"
   ]
  },
  {
   "cell_type": "markdown",
   "id": "159044dc",
   "metadata": {},
   "source": [
    "0,1,2... etc are default indices we can change it if it is needed.\n",
    "\n",
    "Series = Enhanced 1D array with labels and extra features.\n",
    "\n",
    "NumPy array = Pure numerical array for math operations.\n",
    "\n",
    "both can be coverted eachother."
   ]
  },
  {
   "cell_type": "code",
   "execution_count": 28,
   "id": "4b7253b4",
   "metadata": {},
   "outputs": [
    {
     "ename": "KeyError",
     "evalue": "'a'",
     "output_type": "error",
     "traceback": [
      "\u001b[31m---------------------------------------------------------------------------\u001b[39m",
      "\u001b[31mKeyError\u001b[39m                                  Traceback (most recent call last)",
      "\u001b[36mCell\u001b[39m\u001b[36m \u001b[39m\u001b[32mIn[28]\u001b[39m\u001b[32m, line 3\u001b[39m\n\u001b[32m      1\u001b[39m k=pd.Series([\u001b[32m1\u001b[39m,\u001b[32m2\u001b[39m,\u001b[32m3\u001b[39m,\u001b[32m4\u001b[39m])\n\u001b[32m      2\u001b[39m index=[\u001b[33m'\u001b[39m\u001b[33ma\u001b[39m\u001b[33m'\u001b[39m,\u001b[33m'\u001b[39m\u001b[33mb\u001b[39m\u001b[33m'\u001b[39m,\u001b[33m'\u001b[39m\u001b[33mc\u001b[39m\u001b[33m'\u001b[39m,\u001b[33m'\u001b[39m\u001b[33md\u001b[39m\u001b[33m'\u001b[39m]\n\u001b[32m----> \u001b[39m\u001b[32m3\u001b[39m \u001b[38;5;28mprint\u001b[39m(\u001b[43mk\u001b[49m\u001b[43m[\u001b[49m\u001b[33;43m'\u001b[39;49m\u001b[33;43ma\u001b[39;49m\u001b[33;43m'\u001b[39;49m\u001b[43m]\u001b[49m)\n",
      "\u001b[36mFile \u001b[39m\u001b[32m~/ml-projects/chemml/lib/python3.11/site-packages/pandas/core/series.py:1130\u001b[39m, in \u001b[36mSeries.__getitem__\u001b[39m\u001b[34m(self, key)\u001b[39m\n\u001b[32m   1127\u001b[39m     \u001b[38;5;28;01mreturn\u001b[39;00m \u001b[38;5;28mself\u001b[39m._values[key]\n\u001b[32m   1129\u001b[39m \u001b[38;5;28;01melif\u001b[39;00m key_is_scalar:\n\u001b[32m-> \u001b[39m\u001b[32m1130\u001b[39m     \u001b[38;5;28;01mreturn\u001b[39;00m \u001b[38;5;28;43mself\u001b[39;49m\u001b[43m.\u001b[49m\u001b[43m_get_value\u001b[49m\u001b[43m(\u001b[49m\u001b[43mkey\u001b[49m\u001b[43m)\u001b[49m\n\u001b[32m   1132\u001b[39m \u001b[38;5;66;03m# Convert generator to list before going through hashable part\u001b[39;00m\n\u001b[32m   1133\u001b[39m \u001b[38;5;66;03m# (We will iterate through the generator there to check for slices)\u001b[39;00m\n\u001b[32m   1134\u001b[39m \u001b[38;5;28;01mif\u001b[39;00m is_iterator(key):\n",
      "\u001b[36mFile \u001b[39m\u001b[32m~/ml-projects/chemml/lib/python3.11/site-packages/pandas/core/series.py:1246\u001b[39m, in \u001b[36mSeries._get_value\u001b[39m\u001b[34m(self, label, takeable)\u001b[39m\n\u001b[32m   1243\u001b[39m     \u001b[38;5;28;01mreturn\u001b[39;00m \u001b[38;5;28mself\u001b[39m._values[label]\n\u001b[32m   1245\u001b[39m \u001b[38;5;66;03m# Similar to Index.get_value, but we do not fall back to positional\u001b[39;00m\n\u001b[32m-> \u001b[39m\u001b[32m1246\u001b[39m loc = \u001b[38;5;28;43mself\u001b[39;49m\u001b[43m.\u001b[49m\u001b[43mindex\u001b[49m\u001b[43m.\u001b[49m\u001b[43mget_loc\u001b[49m\u001b[43m(\u001b[49m\u001b[43mlabel\u001b[49m\u001b[43m)\u001b[49m\n\u001b[32m   1248\u001b[39m \u001b[38;5;28;01mif\u001b[39;00m is_integer(loc):\n\u001b[32m   1249\u001b[39m     \u001b[38;5;28;01mreturn\u001b[39;00m \u001b[38;5;28mself\u001b[39m._values[loc]\n",
      "\u001b[36mFile \u001b[39m\u001b[32m~/ml-projects/chemml/lib/python3.11/site-packages/pandas/core/indexes/range.py:417\u001b[39m, in \u001b[36mRangeIndex.get_loc\u001b[39m\u001b[34m(self, key)\u001b[39m\n\u001b[32m    415\u001b[39m         \u001b[38;5;28;01mraise\u001b[39;00m \u001b[38;5;167;01mKeyError\u001b[39;00m(key) \u001b[38;5;28;01mfrom\u001b[39;00m\u001b[38;5;250m \u001b[39m\u001b[34;01merr\u001b[39;00m\n\u001b[32m    416\u001b[39m \u001b[38;5;28;01mif\u001b[39;00m \u001b[38;5;28misinstance\u001b[39m(key, Hashable):\n\u001b[32m--> \u001b[39m\u001b[32m417\u001b[39m     \u001b[38;5;28;01mraise\u001b[39;00m \u001b[38;5;167;01mKeyError\u001b[39;00m(key)\n\u001b[32m    418\u001b[39m \u001b[38;5;28mself\u001b[39m._check_indexing_error(key)\n\u001b[32m    419\u001b[39m \u001b[38;5;28;01mraise\u001b[39;00m \u001b[38;5;167;01mKeyError\u001b[39;00m(key)\n",
      "\u001b[31mKeyError\u001b[39m: 'a'"
     ]
    }
   ],
   "source": [
    "k=pd.Series([1,2,3,4])\n",
    "index=['a','b','c','d']\n",
    "print(k['a'])"
   ]
  },
  {
   "cell_type": "markdown",
   "id": "c42698b8",
   "metadata": {},
   "source": [
    "look at the error, for linking index we need to write is on same line we create series"
   ]
  },
  {
   "cell_type": "code",
   "execution_count": null,
   "id": "3d95687e",
   "metadata": {},
   "outputs": [
    {
     "name": "stdout",
     "output_type": "stream",
     "text": [
      "1\n"
     ]
    }
   ],
   "source": [
    "k=pd.Series([1,2,3,4] , index=['a','b','c','d'])\n",
    "print(k['a'])"
   ]
  },
  {
   "cell_type": "markdown",
   "id": "9d297563",
   "metadata": {},
   "source": [
    "we can also convert series  to dataframe."
   ]
  },
  {
   "cell_type": "code",
   "execution_count": 24,
   "id": "aae59273",
   "metadata": {},
   "outputs": [
    {
     "name": "stdout",
     "output_type": "stream",
     "text": [
      "   0\n",
      "a  1\n",
      "b  2\n",
      "c  3\n",
      "d  4\n"
     ]
    }
   ],
   "source": [
    "df=k.to_frame()\n",
    "print(df)"
   ]
  },
  {
   "cell_type": "markdown",
   "id": "e2192a12",
   "metadata": {},
   "source": [
    "this is a proper DataFrame with:\n",
    " - index: 'a', 'b', 'c', 'd'\n",
    " \n",
    " - none unnamed column (0 by default)\n",
    "\n",
    "you can give column a name."
   ]
  },
  {
   "cell_type": "code",
   "execution_count": 27,
   "id": "f7c89e6b",
   "metadata": {},
   "outputs": [
    {
     "name": "stdout",
     "output_type": "stream",
     "text": [
      "   numbers\n",
      "a        1\n",
      "b        2\n",
      "c        3\n",
      "d        4\n"
     ]
    }
   ],
   "source": [
    "df=k.to_frame(name='numbers')\n",
    "print(df)"
   ]
  },
  {
   "cell_type": "code",
   "execution_count": 30,
   "id": "b19cfecf",
   "metadata": {},
   "outputs": [
    {
     "name": "stdout",
     "output_type": "stream",
     "text": [
      "Index(['a', 'b', 'c', 'd'], dtype='object')\n"
     ]
    }
   ],
   "source": [
    "print(df.index)  # Output: Index(['a', 'b', 'c', 'd'], dtype='object')  \n",
    "# This shows the index labels, but you can't directly use `index['k']`."
   ]
  },
  {
   "cell_type": "markdown",
   "id": "6afcf5bf",
   "metadata": {},
   "source": [
    "**Create series from dictionary**"
   ]
  },
  {
   "cell_type": "code",
   "execution_count": 31,
   "id": "0aa0e7e0",
   "metadata": {},
   "outputs": [
    {
     "name": "stdout",
     "output_type": "stream",
     "text": [
      "day1    1\n",
      "day2    2\n",
      "day3    3\n",
      "dtype: int64\n"
     ]
    }
   ],
   "source": [
    "calories={\"day1\":1,\"day2\":2,\"day3\":3}\n",
    "\n",
    "k=pd.Series(calories)\n",
    "print(k)"
   ]
  },
  {
   "cell_type": "code",
   "execution_count": 34,
   "id": "124f398b",
   "metadata": {},
   "outputs": [
    {
     "name": "stdout",
     "output_type": "stream",
     "text": [
      "   last_alphabets\n",
      "x               1\n",
      "y               2\n",
      "z               3\n",
      "a               4\n",
      "   first_alphabets\n",
      "a                5\n",
      "b                6\n",
      "c                7\n",
      "d                8\n"
     ]
    }
   ],
   "source": [
    "k=pd.Series([1,2,3,4],index=['x','y','z','a'])\n",
    "g=pd.Series([5,6,7,8],index=['a','b','c','d'])\n",
    "print(k.to_frame(name=\"last_alphabets\"))\n",
    "print(g.to_frame(name=\"first_alphabets\"))\n"
   ]
  },
  {
   "cell_type": "code",
   "execution_count": 37,
   "id": "729c141e",
   "metadata": {},
   "outputs": [
    {
     "name": "stdout",
     "output_type": "stream",
     "text": [
      "0    1\n",
      "1    2\n",
      "2    3\n",
      "3    4\n",
      "dtype: int64 a    1\n",
      "b    2\n",
      "c    3\n",
      "dtype: int64 day1    6.0\n",
      "day2    7.5\n",
      "day3    7.0\n",
      "dtype: float64\n"
     ]
    }
   ],
   "source": [
    "#so we leared to generate series in three ways\n",
    "s1=pd.Series([1,2,3,4])#from list\n",
    "s2=pd.Series([1,2,3],index=['a','b','c'])#by directly creating with index\n",
    "sleep={\"day1\":6,\"day2\":7.5,\"day3\":7}\n",
    "s3=pd.Series(sleep)\n",
    "print(s1,s2,s3)\n"
   ]
  },
  {
   "cell_type": "markdown",
   "id": "a0796313",
   "metadata": {},
   "source": [
    "## basic operations of series \n",
    "\n",
    "```python\n",
    "s = pd.Series([10, 20, 30, 40], index=['a', 'b', 'c', 'd'])\n",
    "\n",
    "s.values    # array([10, 20, 30, 40])\n",
    "s.index     # Index(['a', 'b', 'c', 'd'], dtype='object')\n",
    "s.dtype     # dtype('int64')\n",
    "s.shape     # (4,)\n",
    "s.size      # 4\n",
    "s.name      # None (can assign name with s.name = \"My Series\")"
   ]
  },
  {
   "cell_type": "code",
   "execution_count": 43,
   "id": "d9ddf7ea",
   "metadata": {},
   "outputs": [
    {
     "name": "stdout",
     "output_type": "stream",
     "text": [
      "1\n",
      "adith\n",
      "(3,)\n",
      "[6.  7.5 7. ]\n",
      "float64\n"
     ]
    }
   ],
   "source": [
    "print(s1[0])\n",
    "s1.name=\"adith\"\n",
    "print(s1.name)\n",
    "print(s2.shape)\n",
    "print(s3.values)\n",
    "print(s3.dtype)\n"
   ]
  }
 ],
 "metadata": {
  "kernelspec": {
   "display_name": "chemml",
   "language": "python",
   "name": "python3"
  },
  "language_info": {
   "codemirror_mode": {
    "name": "ipython",
    "version": 3
   },
   "file_extension": ".py",
   "mimetype": "text/x-python",
   "name": "python",
   "nbconvert_exporter": "python",
   "pygments_lexer": "ipython3",
   "version": "3.11.12"
  }
 },
 "nbformat": 4,
 "nbformat_minor": 5
}
