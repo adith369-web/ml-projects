{
 "cells": [
  {
   "cell_type": "markdown",
   "id": "ca392994",
   "metadata": {},
   "source": [
    "#### Classes and Objects ####\n",
    "\n",
    "class is basically a blueprint of objects.It defines a set of attributes and methods that \n",
    "\n",
    "the created objects (instances) will have.\n",
    "\n"
   ]
  },
  {
   "cell_type": "code",
   "execution_count": 59,
   "id": "d9752c09",
   "metadata": {},
   "outputs": [
    {
     "name": "stdout",
     "output_type": "stream",
     "text": [
      "<class 'str'> <class 'int'> <class 'float'> <class 'tuple'>\n"
     ]
    }
   ],
   "source": [
    "k=\"adith\"\n",
    "h=2\n",
    "g=3.14\n",
    "print(type(k),type(h),type(g),type((k,h,g)))"
   ]
  },
  {
   "cell_type": "markdown",
   "id": "1577e715",
   "metadata": {},
   "source": [
    "so k,h,g are objects and is defined by its classes , for example h is an object defined by \n",
    "\n",
    "class int, int have certain attributes and methods like adding , non-decimal etc.\n",
    "\n",
    "for example: we can manipulate the object defined by class because of functions or methonds \n",
    "\n",
    "inside the class."
   ]
  },
  {
   "cell_type": "code",
   "execution_count": 60,
   "id": "a46602a5",
   "metadata": {},
   "outputs": [
    {
     "name": "stdout",
     "output_type": "stream",
     "text": [
      "ADITH\n"
     ]
    }
   ],
   "source": [
    "print(k.upper())  # Example of a method or function from the str class\n"
   ]
  },
  {
   "cell_type": "code",
   "execution_count": 61,
   "id": "e3b8487b",
   "metadata": {},
   "outputs": [
    {
     "name": "stdout",
     "output_type": "stream",
     "text": [
      "HELLO\n"
     ]
    }
   ],
   "source": [
    "# Example of how the str class might look (simplified)\n",
    "class str:\n",
    "    def __init__(self,value):\n",
    "        self.value = value\n",
    "\n",
    "    def upper(self):\n",
    "        # Returns the string in uppercase\n",
    "        return self.value.upper()\n",
    "\n",
    "# Usage\n",
    "s = str(\"hello\")\n",
    "print(s.upper())  # Output: HELLO"
   ]
  },
  {
   "cell_type": "code",
   "execution_count": 62,
   "id": "85669113",
   "metadata": {},
   "outputs": [
    {
     "name": "stdout",
     "output_type": "stream",
     "text": [
      "<class 'int'>\n"
     ]
    }
   ],
   "source": [
    "x=int()\n",
    "print(type(x))  \n"
   ]
  },
  {
   "cell_type": "markdown",
   "id": "23b263e0",
   "metadata": {},
   "source": [
    "look above , to create an object we can use class(), as int is a class in python, same can \n",
    "\n",
    "be done there too.\n",
    "\n"
   ]
  },
  {
   "cell_type": "code",
   "execution_count": 63,
   "id": "02e6b120",
   "metadata": {},
   "outputs": [
    {
     "name": "stdout",
     "output_type": "stream",
     "text": [
      "woof\n"
     ]
    }
   ],
   "source": [
    "class dog:\n",
    "    def bark(self):\n",
    "        print(\"woof\")\n",
    "\n",
    "dog1=dog() # creating an object of dog class\n",
    "dog1.bark() # calling the method of dog class"
   ]
  },
  {
   "cell_type": "markdown",
   "id": "dd1324d3",
   "metadata": {},
   "source": [
    "only objects (instances) of a class can use the methods(functions) defined in that class.\n",
    "\n",
    "For example, dog1.bark() works because dog1 is an object of the dog class, which has the \n",
    "\n",
    "bark method.\n",
    "\n",
    "If you try to call bark() on an object that is not a dog, you will get an error."
   ]
  },
  {
   "cell_type": "markdown",
   "id": "b0da53e5",
   "metadata": {},
   "source": [
    "**init**\n",
    "\n",
    "it is a special method in python classes.\n",
    "\n",
    "it is called automatically when you create a new object from a class.\n",
    "\n",
    "it is used to intiallize the objects attributes\n",
    "\n",
    "\n"
   ]
  },
  {
   "cell_type": "code",
   "execution_count": 64,
   "id": "326878b8",
   "metadata": {},
   "outputs": [
    {
     "ename": "TypeError",
     "evalue": "cat.__init__() missing 1 required positional argument: 'name'",
     "output_type": "error",
     "traceback": [
      "\u001b[31m---------------------------------------------------------------------------\u001b[39m",
      "\u001b[31mTypeError\u001b[39m                                 Traceback (most recent call last)",
      "\u001b[36mCell\u001b[39m\u001b[36m \u001b[39m\u001b[32mIn[64]\u001b[39m\u001b[32m, line 10\u001b[39m\n\u001b[32m      6\u001b[39m         \u001b[38;5;28mprint\u001b[39m(\u001b[38;5;28mself\u001b[39m.name)\n\u001b[32m      7\u001b[39m         \u001b[38;5;28mprint\u001b[39m(\u001b[33mf\u001b[39m\u001b[33m\"\u001b[39m\u001b[38;5;132;01m{\u001b[39;00m\u001b[38;5;28mself\u001b[39m.name\u001b[38;5;132;01m}\u001b[39;00m\u001b[33m says meow\u001b[39m\u001b[33m\"\u001b[39m)\n\u001b[32m---> \u001b[39m\u001b[32m10\u001b[39m cat1 = \u001b[43mcat\u001b[49m\u001b[43m(\u001b[49m\u001b[43m)\u001b[49m\n\u001b[32m     11\u001b[39m cat1.meeow()  \u001b[38;5;66;03m# This will raise an error because name is not initialized\u001b[39;00m\n",
      "\u001b[31mTypeError\u001b[39m: cat.__init__() missing 1 required positional argument: 'name'"
     ]
    }
   ],
   "source": [
    "class cat:\n",
    "    def __init__(self, name):\n",
    "        self.name = name\n",
    "    def meow(self):\n",
    "        print(\"meow\")\n",
    "        print(self.name)\n",
    "        print(f\"{self.name} says meow\")\n",
    "\n",
    "\n",
    "cat1 = cat()\n",
    "cat1.meeow()  # This will raise an error because name is not initialized"
   ]
  },
  {
   "cell_type": "markdown",
   "id": "aa6fb668",
   "metadata": {},
   "source": [
    "so we see error , because name is intialized ie the cat class should have name. so the new \n",
    "\n",
    "objects we created too should have."
   ]
  },
  {
   "cell_type": "code",
   "execution_count": null,
   "id": "4c4cfa08",
   "metadata": {},
   "outputs": [
    {
     "name": "stdout",
     "output_type": "stream",
     "text": [
      "meow\n",
      "kitty\n",
      "kitty says meow\n"
     ]
    }
   ],
   "source": [
    "cat1=cat(\"kitty\")\n",
    "cat1.meow()  # This will print \"meow\" and \"kitty\""
   ]
  },
  {
   "cell_type": "markdown",
   "id": "5b31e512",
   "metadata": {},
   "source": [
    "**When You Don’t Need __init__:**\n",
    "\n",
    "If the class doesn’t need initial setup\n",
    "\n",
    "Example: Your Dog class only has a bark() method and doesn’t store any data (like name or \n",
    "\n",
    "age). Since no attributes need initialization, __init__ is optional.\n",
    "\n",
    "If all objects share the same default behavior\n",
    "\n",
    "Example: A utility class with only methods (no instance-specific data).\n",
    "\n",
    "**combining objects**\n",
    "\n",
    "**Uses of Combining Objects (Composition and Interaction):**\n",
    "\n",
    "- **Build complex systems:**  \n",
    "  You can create larger, more complex programs by combining simple classes (e.g., a Car object that contains Engine and Wheel objects).\n",
    "\n",
    "- **Code reuse:**  \n",
    "  You can use existing classes inside new classes, avoiding code duplication.\n",
    "\n",
    "- **Separation of concerns:**  \n",
    "  Each class handles its own logic, making code easier to understand and maintain.\n",
    "\n",
    "- **Flexibility:**  \n",
    "  You can swap or upgrade parts (objects) without changing the whole system (e.g., replace an Engine object in a Car).\n",
    "\n",
    "- **Real-world modeling:**  \n",
    "  It helps represent real-world relationships (e.g., a Person owns a Dog, a Library has Books).\n",
    "\n",
    "- **Encapsulation:**  \n",
    "  Each object manages its own data and behavior, reducing bugs and side effects.\n",
    "\n",
    "  **example**\n",
    "\n",
    "  "
   ]
  },
  {
   "cell_type": "code",
   "execution_count": null,
   "id": "eb88e6ab",
   "metadata": {},
   "outputs": [
    {
     "name": "stdout",
     "output_type": "stream",
     "text": [
      "868789\n",
      "('adith', 21, '868789')\n",
      "None\n",
      "the cat is kitty belongs to persian under the ownership of adith\n"
     ]
    }
   ],
   "source": [
    "class cat:\n",
    "    def __init__(self,name,breed,owner):\n",
    "        self.name=name\n",
    "        self.breed=breed\n",
    "        self.owner=owner #thus we are using the owner class as a parameter to the cat class\n",
    "        \n",
    "    def meow(self):\n",
    "        print(f\"the cat is {self.name} belongs to {self.breed} under the ownership of {self.owner.name}\")\n",
    "        \n",
    "        \n",
    "        \n",
    "        \n",
    "class owner:\n",
    "    def __init__(self,name,age,phonenumber):\n",
    "        self.name=name\n",
    "        self.age=age\n",
    "        self.phonenumber=phonenumber\n",
    "        \n",
    "        \n",
    "    def owner_details(self):\n",
    "        print(f\"{self.name,self.age,self.phonenumber}\")\n",
    "        \n",
    "adith=owner(\"adith\",21,\"868789\")        \n",
    "cat1=cat(\"kitty\",\"persian\",adith)#note: here we are passing the owner object to the cat class\n",
    "                                  # so don't put inside quotes like \"adith\" because it is an object\n",
    "\n",
    "print(cat1.owner.phonenumber)\n",
    "print(cat1.owner.owner_details()) #note: here we are using () to call the method of owner class\n",
    "cat1.meow()  # This will print the details of the cat and its owner"
   ]
  },
  {
   "cell_type": "markdown",
   "id": "9d5a62d6",
   "metadata": {},
   "source": [
    "we got one extra none because we use print(cat1.owner.owner_details()), where as \n",
    "\n",
    "owner_details() itself is enough it is a function which print owner details."
   ]
  },
  {
   "cell_type": "code",
   "execution_count": null,
   "id": "a054cc24",
   "metadata": {},
   "outputs": [
    {
     "name": "stdout",
     "output_type": "stream",
     "text": [
      "('adith', 21, '868789')\n"
     ]
    }
   ],
   "source": [
    "cat1.owner.owner_details()  # This will print the details of the owner of the cat"
   ]
  },
  {
   "cell_type": "markdown",
   "id": "be65ebfe",
   "metadata": {},
   "source": [
    "**for more understanding we are defaining a person class**\n"
   ]
  },
  {
   "cell_type": "code",
   "execution_count": null,
   "id": "713f3045",
   "metadata": {},
   "outputs": [],
   "source": [
    "class person:\n",
    "    def __init__(self,name,age):\n",
    "        self.name=name\n",
    "        self.age=age\n",
    "        \n",
    "    def greet(self):\n",
    "        print(f\"i am {self.name} and i am {self.age} years old\")"
   ]
  },
  {
   "cell_type": "markdown",
   "id": "90f63e46",
   "metadata": {},
   "source": [
    "so why are we adding self in the def greet ??\n",
    "\n",
    "we are writing as def greet (self) for the greet function to acces the data from the init f\n",
    "\n",
    "function.\n",
    "\n",
    "you can think of self as a way to store data inside each object. so we are accessing these \n",
    "\n",
    "data in new function we created inside the class using self."
   ]
  },
  {
   "cell_type": "markdown",
   "id": "a8815932",
   "metadata": {},
   "source": [
    "so we learnt how to connect different classes , now we are connecting two objects of same \n",
    "\n",
    "classes .\n",
    "\n",
    "ie.one object (`user1`) is interacting with another object (`user2`) by calling a method and \n",
    "\n",
    "accessing its attributes."
   ]
  },
  {
   "cell_type": "code",
   "execution_count": null,
   "id": "ad930b09",
   "metadata": {},
   "outputs": [
    {
     "name": "stdout",
     "output_type": "stream",
     "text": [
      "sending message to bobby:hi, i am adith\n"
     ]
    }
   ],
   "source": [
    "class user:\n",
    "    def __init__(self,name,email,password):\n",
    "        self.name=name\n",
    "        self.email=email\n",
    "        self.password=password\n",
    "    def say_hi_to_user(self,User): # capital U , its different from the class name user\n",
    "        # This method allows one user to greet another user\n",
    "        print(f\"sending message to {User.name}:hi, i am {self.name}\")\n",
    "        \n",
    "        \n",
    "user1=user(\"adith\",\"@example\",\"@passwd\")\n",
    "user2=user(\"bobby\",\"@jhbbhj\",\"ughjk\")\n",
    "\n",
    "user1.say_hi_to_user(user2)"
   ]
  },
  {
   "cell_type": "markdown",
   "id": "a1dafd33",
   "metadata": {},
   "source": [
    "def say_hi_to_user(self, User):\n",
    "\n",
    "    print(f\"sending message to {User.name}:hi, i am {self.name}\")\n",
    "\n",
    "\t•\tIt’s a function inside the class, so it can access both:\n",
    "\n",
    "\t•\tthe user who is calling the method (self)\n",
    "\n",
    "\t•\tanother user object passed as a parameter (User)\n",
    "\n",
    "\t•\tThe capital User is just a variable name (not the class name) — so it’s fine!"
   ]
  },
  {
   "cell_type": "markdown",
   "id": "d1fd3932",
   "metadata": {},
   "source": [
    "**how to modify the data stored**"
   ]
  },
  {
   "cell_type": "code",
   "execution_count": null,
   "id": "61e37555",
   "metadata": {},
   "outputs": [
    {
     "name": "stdout",
     "output_type": "stream",
     "text": [
      "@jkkjkkjhk\n"
     ]
    }
   ],
   "source": [
    "user1.email=\"@jkkjkkjhk\"\n",
    "print(user1.email)  # This will print the modified email of user1"
   ]
  },
  {
   "cell_type": "markdown",
   "id": "83641f35",
   "metadata": {},
   "source": [
    "**What Is Attribute Protection?**\n",
    "\n",
    "In Python, it’s about controlling how variables inside a class can be accessed or changed.\n",
    "\n",
    "even if we do attribute protection , we can acces them from outside, but it act like a \n",
    "\n",
    "warning sign like we paste \"do not touch\" in zoo , but we can still touch. so it is telling \n",
    "\n",
    "developers not to acces it from outside."
   ]
  },
  {
   "cell_type": "code",
   "execution_count": null,
   "id": "bfddc3b8",
   "metadata": {},
   "outputs": [],
   "source": [
    "# cosider a person class\n",
    "class person:\n",
    "    def __init__(self,name,age,password):\n",
    "        self.name=name\n",
    "        self._age=age # single underscore makes it protected\n",
    "        self.__password=password  # double underscore makes it private\n",
    "\n",
    "    def insideclass(self):\n",
    "            print(f\"i am {self.name} and i am {self._age} years old and my password is {self.__password}\")\n",
    "\n",
    "\n",
    "\n"
   ]
  },
  {
   "cell_type": "code",
   "execution_count": null,
   "id": "569e047e",
   "metadata": {},
   "outputs": [
    {
     "ename": "AttributeError",
     "evalue": "'person' object has no attribute '__password'",
     "output_type": "error",
     "traceback": [
      "\u001b[31m---------------------------------------------------------------------------\u001b[39m",
      "\u001b[31mAttributeError\u001b[39m                            Traceback (most recent call last)",
      "\u001b[36mCell\u001b[39m\u001b[36m \u001b[39m\u001b[32mIn[24]\u001b[39m\u001b[32m, line 2\u001b[39m\n\u001b[32m      1\u001b[39m p = person(\u001b[33m\"\u001b[39m\u001b[33madith\u001b[39m\u001b[33m\"\u001b[39m,\u001b[32m12\u001b[39m,\u001b[33m\"\u001b[39m\u001b[33mjjhjh\u001b[39m\u001b[33m\"\u001b[39m)\n\u001b[32m----> \u001b[39m\u001b[32m2\u001b[39m \u001b[38;5;28mprint\u001b[39m(\u001b[43mp\u001b[49m\u001b[43m.\u001b[49m\u001b[43m__password\u001b[49m)      \u001b[38;5;66;03m# Error: AttributeError\u001b[39;00m\n",
      "\u001b[31mAttributeError\u001b[39m: 'person' object has no attribute '__password'"
     ]
    }
   ],
   "source": [
    "p = person(\"adith\",12,\"jjhjh\")\n",
    "print(p.__password)      # Error: AttributeError"
   ]
  },
  {
   "cell_type": "code",
   "execution_count": null,
   "id": "1d96829f",
   "metadata": {},
   "outputs": [
    {
     "name": "stdout",
     "output_type": "stream",
     "text": [
      "jjhjh\n",
      "12\n"
     ]
    }
   ],
   "source": [
    "print(p._person__password)  # This works (but not recommended)\n",
    "print(p._age)  # This will print the protected attribute, but it's not recommended to access it directly"
   ]
  },
  {
   "cell_type": "markdown",
   "id": "99b926f1",
   "metadata": {},
   "source": [
    "so when double _ is there we cannot access the attribute directly from outside the class."
   ]
  },
  {
   "cell_type": "markdown",
   "id": "7dd71e48",
   "metadata": {},
   "source": [
    "**but we can access password inside the class**\n",
    "\n",
    "for example we are calling the funtion which is inside the class which prints the function."
   ]
  },
  {
   "cell_type": "code",
   "execution_count": null,
   "id": "48f65d00",
   "metadata": {},
   "outputs": [
    {
     "name": "stdout",
     "output_type": "stream",
     "text": [
      "i am adith and i am 12 years old and my password is jjhjh\n"
     ]
    }
   ],
   "source": [
    "p.insideclass()  # This will print the details of the person including the password"
   ]
  },
  {
   "cell_type": "code",
   "execution_count": null,
   "id": "4bc2362d",
   "metadata": {},
   "outputs": [
    {
     "name": "stderr",
     "output_type": "stream",
     "text": [
      "\u001b[32m2025-07-07 18:37:07.241\u001b[0m | \u001b[1mINFO    \u001b[0m | \u001b[36m__main__\u001b[0m:\u001b[36mset_age\u001b[0m:\u001b[36m13\u001b[0m - \u001b[1mChanged _age from 21 to 25\u001b[0m\n",
      "\u001b[32m2025-07-07 18:37:07.242\u001b[0m | \u001b[1mINFO    \u001b[0m | \u001b[36m__main__\u001b[0m:\u001b[36mget_age\u001b[0m:\u001b[36m9\u001b[0m - \u001b[1mAccessed _age from outside: 25\u001b[0m\n"
     ]
    },
    {
     "name": "stdout",
     "output_type": "stream",
     "text": [
      "25\n"
     ]
    }
   ],
   "source": [
    "from loguru import logger\n",
    "\n",
    "class Person:\n",
    "    def __init__(self, name, age):\n",
    "        self.name = name\n",
    "        self._age = age\n",
    "\n",
    "    def get_age(self):\n",
    "        logger.info(f\"Accessed _age from outside: {self._age}\")\n",
    "        return self._age\n",
    "\n",
    "    def set_age(self, new_age):\n",
    "        logger.info(f\"Changed _age from {self._age} to {new_age}\")\n",
    "        self._age = new_age\n",
    "\n",
    "p = Person(\"Adith\", 21)\n",
    "p.set_age(25)             # Logs the change\n",
    "print(p.get_age())        # Logs the access"
   ]
  },
  {
   "cell_type": "markdown",
   "id": "6c98b44e",
   "metadata": {},
   "source": [
    "**The  above code is the getter and setter method**\n",
    "\n",
    "**Getter and Setter Methods:**\n",
    "\n",
    "- A **getter** method is used to access (get) the value of a private or protected attribute from outside the class.\n",
    "- A **setter** method is used to change (set) the value of a private or protected attribute from outside the class.\n",
    "\n",
    "This is useful for **attribute protection**: you control how attributes are read or modified, and can add checks or logging.\n",
    "\n",
    "**Example:**\n",
    "```python\n",
    "class Person:\n",
    "    def __init__(self, name, age):\n",
    "        self.name = name\n",
    "        self._age = age  # protected attribute\n",
    "\n",
    "    def get_age(self):      # getter\n",
    "        return self._age\n",
    "\n",
    "    def set_age(self, new_age):  # setter\n",
    "        self._age = new_age\n",
    "\n",
    "p = Person(\"Adith\", 21)\n",
    "print(p.get_age())   # Access age using getter\n",
    "p.set_age(25)        # Change age using setter\n",
    "```\n",
    "\n",
    "**Summary:**  \n",
    "Getters and setters help you safely access and update attributes, especially when you want to hide or protect them."
   ]
  },
  {
   "cell_type": "markdown",
   "id": "daf94cf0",
   "metadata": {},
   "source": [
    "**Static attribute vs Instance attributes**\n",
    "\n",
    "In python classes we have two types of attributes.\n",
    "\n",
    "1. **Instance attributes**\n",
    "\n",
    "- unique to each object(instance)\n",
    "\n",
    "- defined inside __init__ method or other method using self\n",
    "\n",
    "- make a copy of itself for each new object\n",
    "\n",
    "- Changes affect only that instance.\n",
    "\n",
    "2. **Static attribute**\n",
    "\n",
    "-  unique to entire class  \n",
    "\n",
    "- defined inside the class but outside any methods of class\n",
    "\n",
    "- changing it affect all objects in that class\n",
    "\n",
    "\n",
    "\n",
    "\n",
    "\n"
   ]
  },
  {
   "cell_type": "code",
   "execution_count": null,
   "id": "420c86b8",
   "metadata": {},
   "outputs": [
    {
     "name": "stdout",
     "output_type": "stream",
     "text": [
      "bob,nadan,10\n",
      "kitty,rot,20\n"
     ]
    }
   ],
   "source": [
    "class dog:\n",
    "    species=\"canis\"\n",
    "    \n",
    "    def __init__(self,name,breed,weight):\n",
    "        self.name=name\n",
    "        self.breed=breed\n",
    "        self.weight=weight\n",
    "        \n",
    "    def dog_det(self):\n",
    "        print(f\"{self.name},{self.breed},{self.weight}\")\n",
    "        \n",
    "        \n",
    "        \n",
    "dog1=dog(\"bob\",\"nadan\",10)\n",
    "dog2=dog(\"kitty\",\"rot\",20)\n",
    "\n",
    "dog1.dog_det()\n",
    "dog2.dog_det()"
   ]
  },
  {
   "cell_type": "code",
   "execution_count": null,
   "id": "6e0e835d",
   "metadata": {},
   "outputs": [
    {
     "name": "stdout",
     "output_type": "stream",
     "text": [
      "bob,nadan,12\n",
      "kitty,rot,20\n"
     ]
    }
   ],
   "source": [
    "# now we are changing the instance attribute\n",
    "dog1.weight=12\n",
    "dog1.dog_det()\n",
    "dog2.dog_det()\n",
    "#changing the dog1.weight doesn't affect the dog2.weight\n",
    "#it proves the last two points about instance variable\n"
   ]
  },
  {
   "cell_type": "code",
   "execution_count": null,
   "id": "8168fe1d",
   "metadata": {},
   "outputs": [
    {
     "name": "stdout",
     "output_type": "stream",
     "text": [
      "canis,canis\n",
      "felis,felis\n"
     ]
    }
   ],
   "source": [
    "print(f\"{dog1.species},{dog2.species}\")\n",
    "\n",
    "# chaning the static attribute\n",
    "# this will change the species for all the instances of dog class\n",
    "# so it is like a class variable\n",
    "\n",
    "dog.species=\"felis\"\n",
    "\n",
    "\n",
    "print(f\"{dog1.species},{dog2.species}\")"
   ]
  },
  {
   "cell_type": "code",
   "execution_count": null,
   "id": "ed883a82",
   "metadata": {},
   "outputs": [
    {
     "name": "stdout",
     "output_type": "stream",
     "text": [
      "2\n"
     ]
    }
   ],
   "source": [
    "class user:\n",
    "    usercount=0\n",
    "    \n",
    "    def __init__ (self,name,mail,pswd):\n",
    "        self.name=name\n",
    "        self.mail=mail\n",
    "        self.pswd=pswd\n",
    "        user.usercount+= 1\n",
    "        \n",
    "        \n",
    "    def user_det(self):\n",
    "        print(f\"{self.name}\")\n",
    "        \n",
    "        \n",
    "        \n",
    "user1=user(\"jjh\",\"hkjj\",\"jhjk\")\n",
    "user2=user(\"jhj\",\"ikhkj\",\"rwwsre\")\n",
    "\n",
    "print(user.usercount)        "
   ]
  },
  {
   "cell_type": "markdown",
   "id": "822e128e",
   "metadata": {},
   "source": [
    "**Explanation**\n",
    "\n",
    "- `usercount` is a **static attribute** (class variable).\n",
    "\n",
    "- It is shared by all objects of the class.\n",
    "\n",
    "- Every time a new `user` object is created, `user.usercount` increases by 1.\n",
    "\n",
    "- After creating two users, `user.usercount` becomes `2`.\n",
    "\n",
    "\n",
    "\n",
    "\n",
    "**Key Points**\n",
    "\n",
    "- **Static attribute**: Belongs to the class, not to any one object.\n",
    "\n",
    "- **Instance attribute**: Belongs to each object separately.\n",
    "\n",
    "- `user.usercount` tracks how many `user` objects have been created."
   ]
  },
  {
   "cell_type": "markdown",
   "id": "c60bba96",
   "metadata": {},
   "source": [
    "**Inheritance**\n",
    "\n",
    "it allows child class to inherit or use the attributes from its parent class\n",
    "\n",
    "1. **Single Inheritance**"
   ]
  },
  {
   "cell_type": "code",
   "execution_count": null,
   "id": "6ac98ec2",
   "metadata": {},
   "outputs": [],
   "source": [
    "class animal:\n",
    "    def speak(self):\n",
    "        print(\" makes a sound\")\n",
    "\n",
    "class dog(animal):   # Child class (inherits from Animal)\n",
    "    def bark(self):\n",
    "        print( \"barks\")"
   ]
  },
  {
   "cell_type": "code",
   "execution_count": null,
   "id": "d5db9860",
   "metadata": {},
   "outputs": [
    {
     "name": "stdout",
     "output_type": "stream",
     "text": [
      " makes a sound\n",
      "barks\n"
     ]
    }
   ],
   "source": [
    "dog1=dog()\n",
    "dog1.speak() #inherits the speak method from animal class\n",
    "dog1.bark() #own method of dog class"
   ]
  },
  {
   "cell_type": "markdown",
   "id": "0c778181",
   "metadata": {},
   "source": [
    "here the child class dog got the attributes of parent class animal\n",
    "\n",
    "2. **Multiple Inheritance**\n",
    "\n",
    "the child class can inherit from multiple parent classes"
   ]
  },
  {
   "cell_type": "code",
   "execution_count": null,
   "id": "4313d1b3",
   "metadata": {},
   "outputs": [],
   "source": [
    "class father:\n",
    "    def height(self):\n",
    "        print(\"tall\")\n",
    "class mother:   \n",
    "    def intelligence(self):\n",
    "        print(\"inteligent\")\n",
    "\n",
    "class child(father,mother):\n",
    "    def jump(self):\n",
    "        print(\"can jump\")"
   ]
  },
  {
   "cell_type": "code",
   "execution_count": null,
   "id": "e70928a1",
   "metadata": {},
   "outputs": [
    {
     "name": "stdout",
     "output_type": "stream",
     "text": [
      "inteligent\n",
      "tall\n",
      "can jump\n"
     ]
    }
   ],
   "source": [
    "child1=child()\n",
    "child1.intelligence()\n",
    "child1.height()  # This will print \"tall\" from the father class\n",
    "child1.jump()  # This will print \"can jump\" from the child class"
   ]
  },
  {
   "cell_type": "markdown",
   "id": "e4290936",
   "metadata": {},
   "source": [
    "3. **Multilevel Inheritance**\n",
    "\n",
    "the child class  inherit from parent which is another child class with parent or the child \n",
    "\n",
    "class can inherit from parent's parent class."
   ]
  },
  {
   "cell_type": "code",
   "execution_count": null,
   "id": "d3cbda31",
   "metadata": {},
   "outputs": [],
   "source": [
    "class grandfather:\n",
    "    def jump(self):\n",
    "        print(\"can jump\")\n",
    "\n",
    "class father(grandfather):\n",
    "    def height(self):\n",
    "        print(\"tall\")\n",
    "    \n",
    "\n",
    "class child(father):\n",
    "    def swim(self):\n",
    "        print(\"cannot swim\")"
   ]
  },
  {
   "cell_type": "code",
   "execution_count": null,
   "id": "a1024b0d",
   "metadata": {},
   "outputs": [
    {
     "name": "stdout",
     "output_type": "stream",
     "text": [
      "can jump\n"
     ]
    }
   ],
   "source": [
    "child1=child()\n",
    "child1.jump()  # This will print \"can jump\" from the grandfather class\n",
    "#output: can jump because child class inherits from father class which inherits from grandfather class"
   ]
  },
  {
   "cell_type": "markdown",
   "id": "19e239bc",
   "metadata": {},
   "source": [
    "4. **Hierarchical Inheritance**\n",
    "\n",
    "Multiple child classes inherit from one parent class.\n",
    "\n"
   ]
  },
  {
   "cell_type": "code",
   "execution_count": null,
   "id": "a3c6c618",
   "metadata": {},
   "outputs": [
    {
     "name": "stdout",
     "output_type": "stream",
     "text": [
      "Vehicle moving\n",
      "Vehicle moving\n"
     ]
    }
   ],
   "source": [
    "class Vehicle:\n",
    "    def drive(self):\n",
    "        print(\"Vehicle moving\")\n",
    "\n",
    "class Car(Vehicle):\n",
    "    pass\n",
    "\n",
    "class Bike(Vehicle):\n",
    "    pass\n",
    "\n",
    "car = Car()\n",
    "bike = Bike()\n",
    "car.drive()    # Inherited → \"Vehicle moving\"\n",
    "bike.drive()   # Inherited → \"Vehicle moving\""
   ]
  },
  {
   "cell_type": "markdown",
   "id": "8207cde2",
   "metadata": {},
   "source": [
    "**Method Overriding**\n",
    "\n",
    "A child class can modify parent class."
   ]
  },
  {
   "cell_type": "code",
   "execution_count": 65,
   "id": "3375fabb",
   "metadata": {},
   "outputs": [
    {
     "name": "stdout",
     "output_type": "stream",
     "text": [
      "Penguins can't fly!\n"
     ]
    }
   ],
   "source": [
    "class Bird:\n",
    "    def fly(self):\n",
    "        print(\"Flying\")\n",
    "\n",
    "class Penguin(Bird):\n",
    "    def fly(self):  # Overrides parent method\n",
    "        print(\"Penguins can't fly!\")\n",
    "\n",
    "p = Penguin()\n",
    "p.fly()  # Output: \"Penguins can't fly!\" (Not \"Flying\")"
   ]
  },
  {
   "cell_type": "markdown",
   "id": "18401ece",
   "metadata": {},
   "source": [
    "**Key Concepts in Inheritance**\n",
    "\n",
    "1. super() – Access Parent Class Methods\n",
    "\n",
    "Used to call parent class methods from the child class.\n",
    "\n",
    "this lets you extend or customize parent class methods, not just replace them.\n",
    "\n",
    "Avoids hardcoding the parent class name (good for multiple inheritance).\n",
    "\n",
    "\n",
    "\n",
    "\n"
   ]
  },
  {
   "cell_type": "code",
   "execution_count": null,
   "id": "4af9db08",
   "metadata": {},
   "outputs": [
    {
     "name": "stdout",
     "output_type": "stream",
     "text": [
      "the bmw branded car with 5 wheels is stopping\n"
     ]
    }
   ],
   "source": [
    "class vehicle:\n",
    "    def __init__(self, brand, model, year):\n",
    "        # Instance attributes for all vehicles\n",
    "        self.brand = brand\n",
    "        self.model = model\n",
    "        self.year = year\n",
    "\n",
    "    def start(self):\n",
    "        # Method to start the vehicle\n",
    "        print(\"vehicle is starting\")\n",
    "\n",
    "    def stop(self):\n",
    "        # Method to stop the vehicle\n",
    "        print(\"vehicle is stoping\")\n",
    "\n",
    "\n",
    "class car(vehicle):  # car inherits from vehicle\n",
    "    def __init__(self, brand, model, year, no_of_doors, no_of_wheels):\n",
    "        # Call the parent class's __init__ to set brand, model, year\n",
    "        super().__init__(brand, model, year)\n",
    "        # Additional attributes specific to car\n",
    "        self.no_of_doors = no_of_doors\n",
    "        self.no_of_wheels = no_of_wheels\n",
    "\n",
    "    def stoping(self):\n",
    "        # Method specific to car to print stopping message\n",
    "        print(f\"the {self.brand} branded car with {self.no_of_wheels} wheels is stopping\")\n",
    "\n",
    "\n",
    "m5 = car(\"bmw\", 5, 2023, 2, 5)  # Create a car object\n",
    "m5.stoping()  # Call the car's stoping method"
   ]
  },
  {
   "cell_type": "markdown",
   "id": "4d7e8ace",
   "metadata": {},
   "source": [
    "but why the child class is calling the init of parent class, when class child(parent): is \n",
    "\n",
    "used by default the child class are getting the attribute of parent?\n",
    "\n",
    "#### Case 1: Child doesn’t define its own __ init __\n",
    "\n",
    "If the child class has no __ init__, Python will automatically use the parent’s __ init__.\n",
    "```python\n",
    "class Parent:\n",
    "    def __init__(self):\n",
    "        self.name = \"Parent\"\n",
    "\n",
    "class Child(Parent):\n",
    "    pass\n",
    "\n",
    "c = Child()\n",
    "print(c.name)  # ✅ Output: Parent\n",
    "```\n",
    "#### Case 2: Child has its own __ init __\n",
    "\n",
    "When the child defines its own __ init __, it overrides the parent’s version.\n",
    "\n",
    "But if you still want to use the parent’s logic, you must call it manually using super():\n",
    "\n",
    "note:when you call the parents __ init __ function you need to use all the attribute inside \n",
    "\n",
    "the init function, you cannot use for example just super().__ init __(brand) -> this will \n",
    "\n",
    "give error.\n",
    "\n",
    "\n",
    "```python\n",
    "\n",
    "class Parent:\n",
    "    def __init__(self):\n",
    "        print(\"Parent constructor called\")\n",
    "        self.name = \"Parent\"\n",
    "\n",
    "class Child(Parent):\n",
    "    def __init__(self):\n",
    "        super().__init__()  # 💡 This is what calls the parent __init__\n",
    "        print(\"Child constructor called\")\n",
    "        self.age = 10\n",
    "        c = Child()\n",
    "\n",
    "```\n",
    "output -> Parent constructor called\n",
    "          Child constructor called\n",
    "\n",
    "print(c.name)  # From parent\n",
    "print(c.age)   # From child"
   ]
  },
  {
   "cell_type": "markdown",
   "id": "58c5df44",
   "metadata": {},
   "source": [
    "**polymorphism**\n",
    "\n",
    "it is derived from greek ,means having multuple forms.\n",
    "\n",
    "it is the ability of objects of different classes to respond to the same method name in \n",
    "\n",
    "theirown way.\n",
    "\n",
    "Flexibility – One interface, multiple implementations.\n",
    "\n",
    "Code Reusability – Same function works with different object types.\n",
    "\n",
    "\n"
   ]
  },
  {
   "cell_type": "code",
   "execution_count": null,
   "id": "a3e10f8a",
   "metadata": {},
   "outputs": [
    {
     "name": "stdout",
     "output_type": "stream",
     "text": [
      "bow\n",
      "meow\n",
      "hai\n"
     ]
    }
   ],
   "source": [
    "class dog:\n",
    "    def speak(self):\n",
    "        print(\"bow\")\n",
    "        \n",
    "class cat(dog):\n",
    "    def speak(self):\n",
    "        print(\"meow\") #overrides the parent class\n",
    "        \n",
    "class man(cat):\n",
    "    def speak(self):\n",
    "        print(\"hai\")#overrides the parent class\n",
    "        \n",
    "        \n",
    "animal=[dog(),cat(),man()]\n",
    "for i in animal:\n",
    "    i.speak()"
   ]
  },
  {
   "cell_type": "markdown",
   "id": "4bba8f55",
   "metadata": {},
   "source": [
    "Each class (dog, cat, man) has a speak() method, but each one prints something different.\n",
    "\n",
    "The animal list contains objects of different types.\n",
    "\n",
    "When you loop through animal and call i.speak(), Python automatically calls the correct speak\n",
    "\n",
    "() method for each object, even though the method name is the same.\n",
    "\n",
    "**This is polymorphism:**\n",
    "\n",
    "The same method name (speak) behaves differently depending on the object’s class.\n",
    "\n",
    "It makes code flexible and reusable, as you can treat different objects in a uniform way.\n"
   ]
  }
 ],
 "metadata": {
  "kernelspec": {
   "display_name": "chemml",
   "language": "python",
   "name": "python3"
  },
  "language_info": {
   "codemirror_mode": {
    "name": "ipython",
    "version": 3
   },
   "file_extension": ".py",
   "mimetype": "text/x-python",
   "name": "python",
   "nbconvert_exporter": "python",
   "pygments_lexer": "ipython3",
   "version": "3.11.12"
  }
 },
 "nbformat": 4,
 "nbformat_minor": 5
}
